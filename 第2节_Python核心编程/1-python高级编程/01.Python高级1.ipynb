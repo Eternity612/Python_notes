{
 "cells": [
  {
   "cell_type": "markdown",
   "metadata": {},
   "source": [
    "### 模块重新导入"
   ]
  },
  {
   "cell_type": "markdown",
   "metadata": {},
   "source": [
    "当想导入的模块不在当前路径，可以先加入路径，之后用import就不用写路径了"
   ]
  },
  {
   "cell_type": "code",
   "execution_count": null,
   "metadata": {},
   "outputs": [],
   "source": [
    "import xxx\n",
    "import sys\n",
    "sys.path.append(\"../\")"
   ]
  },
  {
   "cell_type": "markdown",
   "metadata": {},
   "source": [
    "重新导入：当一个模块导入，正在被使用，此时模块被修改，那么模块被修改后的新功能不会被使用。此时就需要重导入"
   ]
  },
  {
   "cell_type": "code",
   "execution_count": null,
   "metadata": {},
   "outputs": [],
   "source": [
    "from imp import *\n",
    "reload(test)\n",
    "\n",
    "test.test()"
   ]
  },
  {
   "cell_type": "markdown",
   "metadata": {},
   "source": [
    "### == 、is的区别"
   ]
  },
  {
   "cell_type": "markdown",
   "metadata": {},
   "source": [
    "#### == 用来判断值、内容是否相同。is用来判断是否指向同一个引用"
   ]
  },
  {
   "cell_type": "code",
   "execution_count": 1,
   "metadata": {},
   "outputs": [
    {
     "data": {
      "text/plain": [
       "True"
      ]
     },
     "execution_count": 1,
     "metadata": {},
     "output_type": "execute_result"
    }
   ],
   "source": [
    "a = [11,22,33]\n",
    "b = [11,22,33]\n",
    "a == b   #比较两个值是否相同，返回为true\n",
    "a is b   #a、b是否指向同一个引用，返回为false\n",
    "c = a\n",
    "a is c   #c和a指向同一个值，返回为true"
   ]
  },
  {
   "cell_type": "code",
   "execution_count": 2,
   "metadata": {},
   "outputs": [
    {
     "data": {
      "text/plain": [
       "True"
      ]
     },
     "execution_count": 2,
     "metadata": {},
     "output_type": "execute_result"
    }
   ],
   "source": [
    "#一个负数到120之间用is返回都为true\n",
    "a = 100\n",
    "b = 100\n",
    "a is b"
   ]
  },
  {
   "cell_type": "markdown",
   "metadata": {},
   "source": [
    "### 深拷贝、浅拷贝"
   ]
  },
  {
   "cell_type": "markdown",
   "metadata": {},
   "source": [
    "#### 浅拷贝，a和b指向同一个id为浅拷贝"
   ]
  },
  {
   "cell_type": "code",
   "execution_count": 4,
   "metadata": {},
   "outputs": [
    {
     "name": "stdout",
     "output_type": "stream",
     "text": [
      "1777663155272\n",
      "1777663155272\n"
     ]
    }
   ],
   "source": [
    "#浅拷贝，a和b指向同一个id为浅拷贝\n",
    "a = [11,22,33]\n",
    "b = a\n",
    "print(id(a))\n",
    "print(id(b))"
   ]
  },
  {
   "cell_type": "markdown",
   "metadata": {},
   "source": [
    "#### 深拷贝，a和b是两个不同id的值"
   ]
  },
  {
   "cell_type": "code",
   "execution_count": 5,
   "metadata": {},
   "outputs": [
    {
     "name": "stdout",
     "output_type": "stream",
     "text": [
      "1777663690952\n",
      "1777663177608\n"
     ]
    }
   ],
   "source": [
    "#深拷贝，a和b是两个不同id的值\n",
    "import copy\n",
    "a = [11,22,33]\n",
    "c = copy.deepcopy(a)\n",
    "print(id(a))\n",
    "print(id(c))"
   ]
  },
  {
   "cell_type": "markdown",
   "metadata": {},
   "source": [
    "copy.copy()是只拷贝第一层(copy的为不可变类型，可认为是浅拷贝；如果拷贝的为可变类型，只拷贝第一次，里面的东西不会拷贝)，当被拷贝的值发生改变，已拷贝的值也发生改变；deepcopy拷贝最里面层，当被拷贝的值发生改变，已拷贝的值不会发生改变"
   ]
  },
  {
   "cell_type": "markdown",
   "metadata": {},
   "source": [
    "### 深拷贝和浅拷贝-copy拷贝元组时的特点"
   ]
  },
  {
   "cell_type": "code",
   "execution_count": 6,
   "metadata": {},
   "outputs": [
    {
     "name": "stdout",
     "output_type": "stream",
     "text": [
      "1777662837832\n",
      "1777662837832\n"
     ]
    }
   ],
   "source": [
    "import copy\n",
    "a = [1,2,3]\n",
    "b = [4,5,6]\n",
    "c = (a,b)\n",
    "e = copy.copy(c)\n",
    "print(id(c))\n",
    "print(id(e))"
   ]
  },
  {
   "cell_type": "markdown",
   "metadata": {},
   "source": [
    "### property的使用-1"
   ]
  },
  {
   "cell_type": "code",
   "execution_count": 11,
   "metadata": {},
   "outputs": [
    {
     "name": "stdout",
     "output_type": "stream",
     "text": [
      "- -- -- -- -- -- -- -- -- -- -- -- -- -- -- -- -- -- -- -- -\n",
      "----setter----\n",
      "----getter----\n",
      "200\n"
     ]
    }
   ],
   "source": [
    "#方法一\n",
    "class Test(object):\n",
    "    def __init__(self):\n",
    "       self.__num = 100\n",
    "\n",
    "    def setNum(self, newNum):\n",
    "        print(\"----setter----\")\n",
    "        self.__num = newNum\n",
    "\n",
    "    def getNum(self):\n",
    "        print(\"----getter----\")\n",
    "        return self.__num\n",
    "\n",
    "    num = property(getNum, setNum)\n",
    "\n",
    "\n",
    "t = Test()\n",
    "#print(t.__num)\n",
    "#t.__num = 200\n",
    "\n",
    "#print(t.getNum())\n",
    "#t.setNum(50)\n",
    "#print(t.getNum())\n",
    "\n",
    "print(\"- -\"*20)\n",
    "\n",
    "t.num = 200 #相当于调用了 t.setNum(200)\n",
    "\n",
    "print(t.num) #相当于调用了 t.getNum()\n",
    "\n",
    "#注意点:\n",
    "#t.num 到底是调用getNum()还是setNum(),要根据实际的场景来判断,\n",
    "#1. 如果是给t.num赋值 那么一定调用setNum()\n",
    "#2. 如果是获取t.num的值,那么就一定调用getNum()\n",
    "#\n",
    "#property的作用:相当于把方法进行了封装, 开发者在对属性设置数据的时候更方便"
   ]
  },
  {
   "cell_type": "code",
   "execution_count": null,
   "metadata": {},
   "outputs": [],
   "source": [
    "#方法二，使用装饰器\n",
    "class Test(object):\n",
    "    def __init__(self):\n",
    "       self.__num = 100\n",
    "\n",
    "    @property\n",
    "    def num(self):\n",
    "        print(\"----getter----\")\n",
    "        return self.__num\n",
    "\n",
    "    @num.setter\n",
    "    def num(self, newNum):\n",
    "        print(\"----setter----\")\n",
    "        self.__num = newNum\n",
    "\n",
    "t = Test()\n",
    "\n",
    "t.num = 200 #相当于调用了 t.setNum(200)  设置值\n",
    "\n",
    "print(t.num) #相当于调用了 t.getNum()    取值"
   ]
  }
 ],
 "metadata": {
  "kernelspec": {
   "display_name": "Python 3",
   "language": "python",
   "name": "python3"
  },
  "language_info": {
   "codemirror_mode": {
    "name": "ipython",
    "version": 3
   },
   "file_extension": ".py",
   "mimetype": "text/x-python",
   "name": "python",
   "nbconvert_exporter": "python",
   "pygments_lexer": "ipython3",
   "version": "3.5.2"
  }
 },
 "nbformat": 4,
 "nbformat_minor": 2
}
