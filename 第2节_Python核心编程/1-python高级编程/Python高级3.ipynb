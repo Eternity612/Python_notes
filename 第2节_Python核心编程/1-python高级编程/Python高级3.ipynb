{
 "cells": [
  {
   "cell_type": "markdown",
   "metadata": {},
   "source": [
    "### 类当作装饰器"
   ]
  },
  {
   "cell_type": "code",
   "execution_count": 1,
   "metadata": {},
   "outputs": [
    {
     "ename": "TypeError",
     "evalue": "'Test' object is not callable",
     "output_type": "error",
     "traceback": [
      "\u001b[1;31m---------------------------------------------------------------------------\u001b[0m",
      "\u001b[1;31mTypeError\u001b[0m                                 Traceback (most recent call last)",
      "\u001b[1;32m<ipython-input-1-7398ef2b8e85>\u001b[0m in \u001b[0;36m<module>\u001b[1;34m()\u001b[0m\n\u001b[0;32m      3\u001b[0m \u001b[1;33m\u001b[0m\u001b[0m\n\u001b[0;32m      4\u001b[0m \u001b[0mt\u001b[0m \u001b[1;33m=\u001b[0m \u001b[0mTest\u001b[0m\u001b[1;33m(\u001b[0m\u001b[1;33m)\u001b[0m\u001b[1;33m\u001b[0m\u001b[0m\n\u001b[1;32m----> 5\u001b[1;33m \u001b[0mt\u001b[0m\u001b[1;33m(\u001b[0m\u001b[1;33m)\u001b[0m\u001b[1;33m\u001b[0m\u001b[0m\n\u001b[0m",
      "\u001b[1;31mTypeError\u001b[0m: 'Test' object is not callable"
     ]
    }
   ],
   "source": [
    "class Test(object):\n",
    "    pass\n",
    "\n",
    "t = Test()\n",
    "t()"
   ]
  },
  {
   "cell_type": "markdown",
   "metadata": {},
   "source": [
    "#### 类里面重写 \\__call\\__方法时，类可调用"
   ]
  },
  {
   "cell_type": "code",
   "execution_count": 2,
   "metadata": {},
   "outputs": [
    {
     "name": "stdout",
     "output_type": "stream",
     "text": [
      "- - -test- - -\n"
     ]
    }
   ],
   "source": [
    "class Test(object):\n",
    "    def __call__(self):\n",
    "        print(\"- - -test- - -\")\n",
    "        \n",
    "t = Test()\n",
    "t()"
   ]
  },
  {
   "cell_type": "code",
   "execution_count": 6,
   "metadata": {},
   "outputs": [
    {
     "name": "stdout",
     "output_type": "stream",
     "text": [
      "- - -初始化- - -\n",
      "func name is test\n",
      "- - -装饰器中的功能- - -\n",
      "- - -test- - - \n"
     ]
    }
   ],
   "source": [
    "class Test(object):\n",
    "    def __init__(self, func):\n",
    "        print(\"- - -初始化- - -\")\n",
    "        print(\"func name is %s\"%func.__name__)\n",
    "        self.__func = func\n",
    "        \n",
    "    def __call__(self):\n",
    "        print(\"- - -装饰器中的功能- - -\")\n",
    "        self.__func()\n",
    "        \n",
    "@Test\n",
    "def test():\n",
    "    print(\"- - -test- - - \")\n",
    "    \n",
    "test()"
   ]
  },
  {
   "cell_type": "code",
   "execution_count": 4,
   "metadata": {},
   "outputs": [],
   "source": [
    "#说明：\n",
    "#1.当用Test来用作装饰器对test函数进行装饰的时候，首先会创建Test的实例对象\n",
    "#  并且会把test这个函数名当作参数传到__init__()方法中\n",
    "#  即在__init__()方法中的func变量指向了test函数体\n",
    "#\n",
    "#2.test函数相当于指向了用Test创建出来的实例对象\n",
    "#\n",
    "#3.当在使用test()进行调用时，就相当于让这个对象()，因此会调用这个对象的__call__方法\n",
    "#\n",
    "#4.为了能够在__call__方法中调用原来test指向的函数体，所以在__init__方法中就需要一个实例属性来保存\n",
    "#  所以才有了self._func = func这句代码，从而在调用__call__方法中能够调用到test之前的函数体"
   ]
  },
  {
   "cell_type": "markdown",
   "metadata": {},
   "source": [
    "### 元类"
   ]
  },
  {
   "cell_type": "code",
   "execution_count": 7,
   "metadata": {},
   "outputs": [
    {
     "name": "stdout",
     "output_type": "stream",
     "text": [
      "- - -person- -test- - -\n"
     ]
    }
   ],
   "source": [
    "class Person(object):\n",
    "    num = 0\n",
    "    print(\"- - -person- -test- - -\")\n",
    "    \n",
    "    def __init__(self):\n",
    "        self.name = \"abc\""
   ]
  },
  {
   "cell_type": "markdown",
   "metadata": {},
   "source": [
    "创建了Person对象，Person类被执行"
   ]
  },
  {
   "cell_type": "markdown",
   "metadata": {},
   "source": [
    "##### 动态创建类"
   ]
  },
  {
   "cell_type": "markdown",
   "metadata": {},
   "source": [
    "###### 类也是对象。可以在运行时动态的创建他们，就像其他任何对象一样，首先，可以在函数里创建类，使用关键字 class 即可"
   ]
  },
  {
   "cell_type": "code",
   "execution_count": 9,
   "metadata": {},
   "outputs": [
    {
     "name": "stdout",
     "output_type": "stream",
     "text": [
      "<class '__main__.choose_class.<locals>.Foo'>\n",
      "<__main__.choose_class.<locals>.Foo object at 0x000002B3152C5F28>\n"
     ]
    }
   ],
   "source": [
    "# 类也是对象。可以在运行时动态的创建他们，就像其他任何对象一样，首先，可以在函数里创建类，使用关键字 class 即可\n",
    "def choose_class(name):\n",
    "    if name == \"foo\":\n",
    "        class Foo(object):\n",
    "            pass\n",
    "        return Foo\n",
    "    else:\n",
    "        class Bar(object):\n",
    "            pass\n",
    "        return Bar\n",
    "    \n",
    "MyClass = choose_class(\"foo\")\n",
    "print(MyClass)  # 函数返回的是类，不是类的实例\n",
    "print(MyClass())# 通过这个类创建实例，也就是对象"
   ]
  },
  {
   "cell_type": "markdown",
   "metadata": {},
   "source": [
    "###### 使用type创建类"
   ]
  },
  {
   "cell_type": "markdown",
   "metadata": {},
   "source": [
    "type动态的创建类，type可以接受一个类的描述作为参数，然后返回一个类。"
   ]
  },
  {
   "cell_type": "markdown",
   "metadata": {},
   "source": [
    "##### type(类名，由父类名称组成的元组 ( 指对继承的情况，可以为空 ) , 包含属性的字典 ( 名称和值 ) )"
   ]
  },
  {
   "cell_type": "code",
   "execution_count": 11,
   "metadata": {},
   "outputs": [
    {
     "name": "stdout",
     "output_type": "stream",
     "text": [
      "<class '__main__.Test1'>\n",
      "<class '__main__.Test2'>\n"
     ]
    }
   ],
   "source": [
    "class Test1:\n",
    "    pass\n",
    "\n",
    "t1 = Test1()\n",
    "Test2 = type(\"Test2\",(),{})## type创建类（元类）\n",
    "\n",
    "t2 = Test2()\n",
    "\n",
    "print(type(t1))\n",
    "print(type(t2))"
   ]
  },
  {
   "cell_type": "markdown",
   "metadata": {},
   "source": [
    "实例对象是class创建的，type（元类）创建了class"
   ]
  },
  {
   "cell_type": "code",
   "execution_count": 12,
   "metadata": {},
   "outputs": [
    {
     "name": "stdout",
     "output_type": "stream",
     "text": [
      "- - -num- 100- - -\n"
     ]
    }
   ],
   "source": [
    "def printNum(self):\n",
    "    print(\"- - -num- %d- - -\"%self.num)\n",
    "Test1 = type(\"Test1\",(),{\"printNum\":printNum}) ## 元类，动态创建   printNum 不加引号，表示这个将来是个引用\n",
    "t1 = Test1()\n",
    "t1.num = 100\n",
    "t1.printNum()"
   ]
  },
  {
   "cell_type": "code",
   "execution_count": 13,
   "metadata": {},
   "outputs": [
    {
     "name": "stdout",
     "output_type": "stream",
     "text": [
      "- - -num- 100- - -\n"
     ]
    }
   ],
   "source": [
    "# 普通类，写死的\n",
    "class Test1:\n",
    "    def printNum(self):\n",
    "        print(\"- - -num- %d- - -\"%self.num)\n",
    "        \n",
    "t1 = Test1()\n",
    "t1.num = 100\n",
    "t1.printNum()"
   ]
  },
  {
   "cell_type": "markdown",
   "metadata": {},
   "source": [
    "### 元类-2"
   ]
  },
  {
   "cell_type": "markdown",
   "metadata": {},
   "source": [
    "###### \\__metaclass\\__属性"
   ]
  },
  {
   "cell_type": "code",
   "execution_count": null,
   "metadata": {},
   "outputs": [],
   "source": [
    "# 可以在定义 类 的时候为其添加一个__metaclass__属性\n",
    "class Foo(object):\n",
    "    __metaclass__ = something\n",
    "    pass\n",
    "\n",
    "## 此时，Python就会用元类来创建Foo。首先写下class Foo(object)，但是类Foo还没有在内存中创建，\n",
    "## Python会在类的定义中寻找__metacalss__属性(当前类中没有，会继续在父类中寻找)，如果找到了，\n",
    "## Python就会用它来创建类Foo，如果没有找到，就会用内建的 type 来创建这个类\n",
    "## "
   ]
  },
  {
   "cell_type": "markdown",
   "metadata": {},
   "source": [
    "##### python2写法"
   ]
  },
  {
   "cell_type": "code",
   "execution_count": null,
   "metadata": {},
   "outputs": [],
   "source": [
    "def upper_attr(future_class_name, future_class_parents, future_class_attr):\n",
    "    #遍历属性字典，把不是 __ 开头的属性名字变为大写\n",
    "    newAttr = {}\n",
    "    for name,value in future_class_attr.items():\n",
    "        if not name.startswith(\"__\"):\n",
    "            newAttr[name.upper()] = value\n",
    "            \n",
    "    #调用type来创建一个类\n",
    "    return type(future_class_name, future_class_parents, newAttr)\n",
    "\n",
    "class Foo(object):\n",
    "    __metaclass__ = upper_attr #设置Foo类的元类为 upper_attr\n",
    "    bar = \"bip\"\n",
    "    \n",
    "print(hasattr(Foo,\"bar\"))\n",
    "print(hasattr(Foo,\"BAR\"))"
   ]
  },
  {
   "cell_type": "markdown",
   "metadata": {},
   "source": [
    "###### Python3写法"
   ]
  },
  {
   "cell_type": "code",
   "execution_count": 18,
   "metadata": {},
   "outputs": [
    {
     "name": "stdout",
     "output_type": "stream",
     "text": [
      "False\n",
      "True\n"
     ]
    }
   ],
   "source": [
    "def upper_attr(future_class_name, future_class_parents, future_class_attr):\n",
    "    #遍历属性字典，把不是 __ 开头的属性名字变为大写\n",
    "    newAttr = {}\n",
    "    for name,value in future_class_attr.items():\n",
    "        if not name.startswith(\"__\"):\n",
    "            newAttr[name.upper()] = value\n",
    "            \n",
    "    #调用type来创建一个类\n",
    "    return type(future_class_name, future_class_parents, newAttr)\n",
    "\n",
    "class Foo(object,metaclass = upper_attr):\n",
    "    ##__metaclass__ = upper_attr #设置Foo类的元类为 upper_attr\n",
    "    bar = \"bip\"\n",
    "    \n",
    "print(hasattr(Foo,\"bar\"))\n",
    "print(hasattr(Foo,\"BAR\"))"
   ]
  },
  {
   "cell_type": "markdown",
   "metadata": {},
   "source": []
  },
  {
   "cell_type": "code",
   "execution_count": null,
   "metadata": {},
   "outputs": [],
   "source": []
  }
 ],
 "metadata": {
  "kernelspec": {
   "display_name": "Python 3",
   "language": "python",
   "name": "python3"
  },
  "language_info": {
   "codemirror_mode": {
    "name": "ipython",
    "version": 3
   },
   "file_extension": ".py",
   "mimetype": "text/x-python",
   "name": "python",
   "nbconvert_exporter": "python",
   "pygments_lexer": "ipython3",
   "version": "3.5.2"
  }
 },
 "nbformat": 4,
 "nbformat_minor": 2
}
