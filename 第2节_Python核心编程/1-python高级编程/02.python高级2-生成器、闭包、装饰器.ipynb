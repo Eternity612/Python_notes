{
 "cells": [
  {
   "cell_type": "markdown",
   "metadata": {},
   "source": [
    "### 迭代器"
   ]
  },
  {
   "cell_type": "markdown",
   "metadata": {},
   "source": [
    "以直接作用于for循环的数据类型有以下几种："
   ]
  },
  {
   "cell_type": "markdown",
   "metadata": {},
   "source": [
    "一类是集合数据类型（list、tuple、dict、set、str）,一类是generator包括生成器和yield，这些可以直接作用于for循环的对象都统称为可迭代对象。"
   ]
  },
  {
   "cell_type": "markdown",
   "metadata": {},
   "source": [
    "#### 判断是否可迭代"
   ]
  },
  {
   "cell_type": "markdown",
   "metadata": {},
   "source": [
    "可用isinstance()判断一个对象是否是 Iterable对象："
   ]
  },
  {
   "cell_type": "code",
   "execution_count": 1,
   "metadata": {},
   "outputs": [
    {
     "data": {
      "text/plain": [
       "False"
      ]
     },
     "execution_count": 1,
     "metadata": {},
     "output_type": "execute_result"
    }
   ],
   "source": [
    "from collections import Iterable\n",
    "isinstance(\"abc\",Iterable)  #True,可迭代\n",
    "isinstance(100,Iterable)    #False,不可迭代"
   ]
  },
  {
   "cell_type": "markdown",
   "metadata": {},
   "source": [
    "#### 可以被next()函数调用并不断返回下一个值的对象称为迭代器：Iterator.可以使用isinstance()判断一个对象是否是Iterator对象："
   ]
  },
  {
   "cell_type": "code",
   "execution_count": 5,
   "metadata": {},
   "outputs": [
    {
     "data": {
      "text/plain": [
       "True"
      ]
     },
     "execution_count": 5,
     "metadata": {},
     "output_type": "execute_result"
    }
   ],
   "source": [
    "from collections import Iterator\n",
    "isinstance((x for x in range(10)),Iterator)"
   ]
  },
  {
   "cell_type": "code",
   "execution_count": 6,
   "metadata": {},
   "outputs": [
    {
     "data": {
      "text/plain": [
       "False"
      ]
     },
     "execution_count": 6,
     "metadata": {},
     "output_type": "execute_result"
    }
   ],
   "source": [
    "from collections import Iterator\n",
    "isinstance([],Iterator)"
   ]
  },
  {
   "cell_type": "markdown",
   "metadata": {},
   "source": [
    "#### 生成器都是Iterator,但list、dict/str虽然是Iteratable,却不是Iterator。把list、dict、str等Iterable可以使用iter()函数"
   ]
  },
  {
   "cell_type": "code",
   "execution_count": 8,
   "metadata": {},
   "outputs": [
    {
     "data": {
      "text/plain": [
       "True"
      ]
     },
     "execution_count": 8,
     "metadata": {},
     "output_type": "execute_result"
    }
   ],
   "source": [
    "isinstance(iter([]),Iterator)"
   ]
  },
  {
   "cell_type": "code",
   "execution_count": 9,
   "metadata": {},
   "outputs": [
    {
     "data": {
      "text/plain": [
       "True"
      ]
     },
     "execution_count": 9,
     "metadata": {},
     "output_type": "execute_result"
    }
   ],
   "source": [
    "isinstance(iter(\"abc\"),Iterator)"
   ]
  },
  {
   "cell_type": "markdown",
   "metadata": {},
   "source": [
    "#### 总结：凡是可作用于for循环的对象都是 Iterable类型；\n",
    "   ####     凡是作用于next()的函数的对象都是Iterator类型；\n",
    "####            集合数据类型如list、dict、str等是Iterable 但不是 Iterator，不过可以通过iter()函数获得一个Iterator对象。"
   ]
  },
  {
   "cell_type": "markdown",
   "metadata": {},
   "source": [
    "### 闭包"
   ]
  },
  {
   "cell_type": "markdown",
   "metadata": {},
   "source": [
    "在函数内部再定义一个函数，并且这个函数用到了外边函数的变量，那么我们将这个函数以及用到的一些变量，里面的整体为闭包"
   ]
  },
  {
   "cell_type": "code",
   "execution_count": 10,
   "metadata": {},
   "outputs": [
    {
     "name": "stdout",
     "output_type": "stream",
     "text": [
      "in test_in 函数，number_in is 100\n",
      "120\n",
      "in test_in 函数，number_in is 200\n",
      "220\n"
     ]
    }
   ],
   "source": [
    "#定义一个函数\n",
    "def test(number):\n",
    "    \n",
    "    #在函数内部再定义一个函数，并且这个函数用到了外边函数的变量，那么我们将这个函数以及用到的一些变量，里面的整体为闭包\n",
    "    def test_in(number_in):\n",
    "        print(\"in test_in 函数，number_in is %d\" % number_in)\n",
    "        return number+number_in\n",
    "    \n",
    "    #其实这里返回的就是闭包的结果\n",
    "    return test_in                  #####return了 test_in 指向的函数体\n",
    "\n",
    "#给test函数赋值，这个20就是给参数number\n",
    "ret = test(20)\n",
    "\n",
    "#注意这里的100其实给参数number_in\n",
    "print(ret(100))\n",
    "\n",
    "#注意这里的200其实给参数number_in\\\n",
    "print(ret(200))"
   ]
  },
  {
   "cell_type": "code",
   "execution_count": 11,
   "metadata": {},
   "outputs": [
    {
     "name": "stdout",
     "output_type": "stream",
     "text": [
      "---1---\n",
      "---3---\n",
      "----------\n",
      "---2---\n",
      "101\n"
     ]
    }
   ],
   "source": [
    "#闭包特点:当执行test(100)返回number为100，再次执行ret()会使用上一次的number值最后得到结果101\n",
    "def test(number):\n",
    "    print(\"---1---\")\n",
    "    def test_in(number2):\n",
    "        print(\"---2---\")\n",
    "        print(number+number2)\n",
    "    print(\"---3---\")\n",
    "    return test_in   #返回test_in指向test_in()函数的引用\n",
    "\n",
    "ret = test(100) #ret指向test_in，也就是全部指向test_in()的函数体\n",
    "print(\"-\"*10)\n",
    "ret(1)"
   ]
  },
  {
   "cell_type": "markdown",
   "metadata": {},
   "source": [
    "#### 闭包的应用"
   ]
  },
  {
   "cell_type": "markdown",
   "metadata": {},
   "source": [
    "1、简化调用方式，比传统写法调用简便（a,b不变，只变化x）"
   ]
  },
  {
   "cell_type": "code",
   "execution_count": 12,
   "metadata": {},
   "outputs": [
    {
     "name": "stdout",
     "output_type": "stream",
     "text": [
      "7\n",
      "25\n"
     ]
    }
   ],
   "source": [
    "def line_conf(a, b):\n",
    "    \n",
    "    def line(x):\n",
    "        return a*x + b\n",
    "    \n",
    "    return line\n",
    "\n",
    "line1 = line_conf(1,2)\n",
    "line2 = line_conf(4,5)\n",
    "print(line1(5))\n",
    "print(line2(5))"
   ]
  },
  {
   "cell_type": "markdown",
   "metadata": {},
   "source": [
    "### 装饰器"
   ]
  },
  {
   "cell_type": "markdown",
   "metadata": {},
   "source": [
    "在不改变原函数功能的情况下添加新功能"
   ]
  },
  {
   "cell_type": "code",
   "execution_count": 16,
   "metadata": {},
   "outputs": [
    {
     "name": "stdout",
     "output_type": "stream",
     "text": [
      "- - -正在验证权限- - -\n",
      "- - -f1- - -\n",
      "- - -正在验证权限- - -\n",
      "- - -f2- - -\n"
     ]
    }
   ],
   "source": [
    "def w1(func):\n",
    "    def inner():\n",
    "        print(\"- - -正在验证权限- - -\")\n",
    "        if True:\n",
    "            func()\n",
    "        else:\n",
    "            print(\"没有权限\")\n",
    "    return inner\n",
    "\n",
    "@w1    \n",
    "def f1():\n",
    "    print(\"- - -f1- - -\")\n",
    "\n",
    "@w1\n",
    "def f2():\n",
    "    print(\"- - -f2- - -\")\n",
    "    \n",
    "# innerFunc = w1(f1)\n",
    "# innerFunc()\n",
    "\n",
    "#f1 = w1(f1)  # 等价于 @w1\n",
    "f1()\n",
    "f2()"
   ]
  },
  {
   "cell_type": "markdown",
   "metadata": {},
   "source": [
    "### 2个装饰器"
   ]
  },
  {
   "cell_type": "code",
   "execution_count": null,
   "metadata": {},
   "outputs": [],
   "source": []
  }
 ],
 "metadata": {
  "kernelspec": {
   "display_name": "Python 3",
   "language": "python",
   "name": "python3"
  },
  "language_info": {
   "codemirror_mode": {
    "name": "ipython",
    "version": 3
   },
   "file_extension": ".py",
   "mimetype": "text/x-python",
   "name": "python",
   "nbconvert_exporter": "python",
   "pygments_lexer": "ipython3",
   "version": "3.5.2"
  }
 },
 "nbformat": 4,
 "nbformat_minor": 2
}
