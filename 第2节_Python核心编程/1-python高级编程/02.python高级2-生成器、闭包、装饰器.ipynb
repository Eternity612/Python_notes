{
 "cells": [
  {
   "cell_type": "markdown",
   "metadata": {},
   "source": [
    "### 迭代器"
   ]
  },
  {
   "cell_type": "markdown",
   "metadata": {},
   "source": [
    "以直接作用于for循环的数据类型有以下几种："
   ]
  },
  {
   "cell_type": "markdown",
   "metadata": {},
   "source": [
    "一类是集合数据类型（list、tuple、dict、set、str）,一类是generator包括生成器和yield，这些可以直接作用于for循环的对象都统称为可迭代对象。"
   ]
  },
  {
   "cell_type": "markdown",
   "metadata": {},
   "source": [
    "#### 判断是否可迭代"
   ]
  },
  {
   "cell_type": "markdown",
   "metadata": {},
   "source": [
    "可用isinstance()判断一个对象是否是 Iterable对象："
   ]
  },
  {
   "cell_type": "code",
   "execution_count": 1,
   "metadata": {},
   "outputs": [
    {
     "data": {
      "text/plain": [
       "False"
      ]
     },
     "execution_count": 1,
     "metadata": {},
     "output_type": "execute_result"
    }
   ],
   "source": [
    "from collections import Iterable\n",
    "isinstance(\"abc\",Iterable)  #True,可迭代\n",
    "isinstance(100,Iterable)    #False,不可迭代"
   ]
  },
  {
   "cell_type": "markdown",
   "metadata": {},
   "source": [
    "#### 可以被next()函数调用并不断返回下一个值的对象称为迭代器：Iterator.可以使用isinstance()判断一个对象是否是Iterator对象："
   ]
  },
  {
   "cell_type": "code",
   "execution_count": 5,
   "metadata": {},
   "outputs": [
    {
     "data": {
      "text/plain": [
       "True"
      ]
     },
     "execution_count": 5,
     "metadata": {},
     "output_type": "execute_result"
    }
   ],
   "source": [
    "from collections import Iterator\n",
    "isinstance((x for x in range(10)),Iterator)"
   ]
  },
  {
   "cell_type": "code",
   "execution_count": 6,
   "metadata": {},
   "outputs": [
    {
     "data": {
      "text/plain": [
       "False"
      ]
     },
     "execution_count": 6,
     "metadata": {},
     "output_type": "execute_result"
    }
   ],
   "source": [
    "from collections import Iterator\n",
    "isinstance([],Iterator)"
   ]
  },
  {
   "cell_type": "markdown",
   "metadata": {},
   "source": [
    "#### 生成器都是Iterator,但list、dict/str虽然是Iteratable,却不是Iterator。把list、dict、str等Iterable可以使用iter()函数"
   ]
  },
  {
   "cell_type": "code",
   "execution_count": 8,
   "metadata": {},
   "outputs": [
    {
     "data": {
      "text/plain": [
       "True"
      ]
     },
     "execution_count": 8,
     "metadata": {},
     "output_type": "execute_result"
    }
   ],
   "source": [
    "isinstance(iter([]),Iterator)"
   ]
  },
  {
   "cell_type": "code",
   "execution_count": 9,
   "metadata": {},
   "outputs": [
    {
     "data": {
      "text/plain": [
       "True"
      ]
     },
     "execution_count": 9,
     "metadata": {},
     "output_type": "execute_result"
    }
   ],
   "source": [
    "isinstance(iter(\"abc\"),Iterator)"
   ]
  },
  {
   "cell_type": "markdown",
   "metadata": {},
   "source": [
    "#### 总结：凡是可作用于for循环的对象都是 Iterable类型；\n",
    "   ####     凡是作用于next()的函数的对象都是Iterator类型；\n",
    "####            集合数据类型如list、dict、str等是Iterable 但不是 Iterator，不过可以通过iter()函数获得一个Iterator对象。"
   ]
  },
  {
   "cell_type": "markdown",
   "metadata": {},
   "source": [
    "### 闭包"
   ]
  },
  {
   "cell_type": "markdown",
   "metadata": {},
   "source": [
    "在函数内部再定义一个函数，并且这个函数用到了外边函数的变量，那么我们将这个函数以及用到的一些变量，里面的整体为闭包"
   ]
  },
  {
   "cell_type": "code",
   "execution_count": 10,
   "metadata": {},
   "outputs": [
    {
     "name": "stdout",
     "output_type": "stream",
     "text": [
      "in test_in 函数，number_in is 100\n",
      "120\n",
      "in test_in 函数，number_in is 200\n",
      "220\n"
     ]
    }
   ],
   "source": [
    "#定义一个函数\n",
    "def test(number):\n",
    "    \n",
    "    #在函数内部再定义一个函数，并且这个函数用到了外边函数的变量，那么我们将这个函数以及用到的一些变量，里面的整体为闭包\n",
    "    def test_in(number_in):\n",
    "        print(\"in test_in 函数，number_in is %d\" % number_in)\n",
    "        return number+number_in\n",
    "    \n",
    "    #其实这里返回的就是闭包的结果\n",
    "    return test_in                  #####return了 test_in 指向的函数体\n",
    "\n",
    "#给test函数赋值，这个20就是给参数number\n",
    "ret = test(20)\n",
    "\n",
    "#注意这里的100其实给参数number_in\n",
    "print(ret(100))\n",
    "\n",
    "#注意这里的200其实给参数number_in\\\n",
    "print(ret(200))"
   ]
  },
  {
   "cell_type": "code",
   "execution_count": 11,
   "metadata": {},
   "outputs": [
    {
     "name": "stdout",
     "output_type": "stream",
     "text": [
      "---1---\n",
      "---3---\n",
      "----------\n",
      "---2---\n",
      "101\n"
     ]
    }
   ],
   "source": [
    "#闭包特点:当执行test(100)返回number为100，再次执行ret()会使用上一次的number值最后得到结果101\n",
    "def test(number):\n",
    "    print(\"---1---\")\n",
    "    def test_in(number2):\n",
    "        print(\"---2---\")\n",
    "        print(number+number2)\n",
    "    print(\"---3---\")\n",
    "    return test_in   #返回test_in指向test_in()函数的引用\n",
    "\n",
    "ret = test(100) #ret指向test_in，也就是全部指向test_in()的函数体\n",
    "print(\"-\"*10)\n",
    "ret(1)"
   ]
  },
  {
   "cell_type": "markdown",
   "metadata": {},
   "source": [
    "#### 闭包的应用"
   ]
  },
  {
   "cell_type": "markdown",
   "metadata": {},
   "source": [
    "1、简化调用方式，比传统写法调用简便（a,b不变，只变化x）"
   ]
  },
  {
   "cell_type": "code",
   "execution_count": 12,
   "metadata": {},
   "outputs": [
    {
     "name": "stdout",
     "output_type": "stream",
     "text": [
      "7\n",
      "25\n"
     ]
    }
   ],
   "source": [
    "def line_conf(a, b):\n",
    "    \n",
    "    def line(x):\n",
    "        return a*x + b\n",
    "    \n",
    "    return line\n",
    "\n",
    "line1 = line_conf(1,2)\n",
    "line2 = line_conf(4,5)\n",
    "print(line1(5))\n",
    "print(line2(5))"
   ]
  },
  {
   "cell_type": "markdown",
   "metadata": {},
   "source": [
    "### 装饰器"
   ]
  },
  {
   "cell_type": "markdown",
   "metadata": {},
   "source": [
    "在不改变原函数功能的情况下添加新功能"
   ]
  },
  {
   "cell_type": "code",
   "execution_count": 16,
   "metadata": {},
   "outputs": [
    {
     "name": "stdout",
     "output_type": "stream",
     "text": [
      "- - -正在验证权限- - -\n",
      "- - -f1- - -\n",
      "- - -正在验证权限- - -\n",
      "- - -f2- - -\n"
     ]
    }
   ],
   "source": [
    "def w1(func):\n",
    "    def inner():\n",
    "        print(\"- - -正在验证权限- - -\")\n",
    "        if True:\n",
    "            func()\n",
    "        else:\n",
    "            print(\"没有权限\")\n",
    "    return inner\n",
    "\n",
    "@w1    \n",
    "def f1():\n",
    "    print(\"- - -f1- - -\")\n",
    "\n",
    "@w1\n",
    "def f2():\n",
    "    print(\"- - -f2- - -\")\n",
    "    \n",
    "# innerFunc = w1(f1)\n",
    "# innerFunc()\n",
    "\n",
    "#f1 = w1(f1)  # 等价于 @w1\n",
    "f1()\n",
    "f2()"
   ]
  },
  {
   "cell_type": "markdown",
   "metadata": {},
   "source": [
    "### 2个装饰器"
   ]
  },
  {
   "cell_type": "code",
   "execution_count": 4,
   "metadata": {},
   "outputs": [
    {
     "name": "stdout",
     "output_type": "stream",
     "text": [
      "----1---\n",
      "----2---\n",
      "----3---\n",
      "<b><i>hello world-3</i></b>\n"
     ]
    }
   ],
   "source": [
    "#定义函数：完成包裹数据\n",
    "def makeBold(fn):\n",
    "    def wrapped():\n",
    "        print(\"----1---\")\n",
    "        return \"<b>\" + fn() + \"</b>\"\n",
    "    return wrapped\n",
    "\n",
    "#定义函数：完成包裹数据\n",
    "def makeItalic(fn):\n",
    "    def wrapped():\n",
    "        print(\"----2---\")\n",
    "        return \"<i>\" + fn() + \"</i>\"\n",
    "    return wrapped\n",
    "\n",
    "#先执行装饰器@makeItalic\n",
    "@makeBold     #test3 = makeBold(test3)\n",
    "@makeItalic   #test3 = makeItalic(test3)\n",
    "def test3():\n",
    "    print(\"----3---\")\n",
    "    return \"hello world-3\"\n",
    "\n",
    "ret = test3()\n",
    "print(ret)\n",
    "\n",
    "#执行流程:\n",
    "#1.@makeBold先执行，打印 print(\"----1---\")，return wrapped函数，fn()传入调用@makeItalic\n",
    "#2.@makeItalic继续执行，打印 print(\"----2---\")，return wrapped函数，fn()传入调用test3()，输出 print(\"----3---\")和<i>hello world-3</i>\n",
    "#3.最后@makeBold才调用@makeItalic的return值"
   ]
  },
  {
   "cell_type": "markdown",
   "metadata": {},
   "source": [
    "### 装饰器执行的时间"
   ]
  },
  {
   "cell_type": "code",
   "execution_count": 6,
   "metadata": {},
   "outputs": [
    {
     "name": "stdout",
     "output_type": "stream",
     "text": [
      "---正在装饰2----\n",
      "---正在装饰1----\n",
      "---正在验证权限1----\n",
      "---正在验证权限2----\n",
      "---f1---\n"
     ]
    }
   ],
   "source": [
    "def w1(func):\n",
    "    print(\"---正在装饰1----\")\n",
    "    def inner():\n",
    "        print(\"---正在验证权限1----\")\n",
    "        func()\n",
    "    return inner\n",
    "\n",
    "def w2(func):\n",
    "    print(\"---正在装饰2----\")\n",
    "    def inner():\n",
    "        print(\"---正在验证权限2----\")\n",
    "        func()\n",
    "    return inner\n",
    "\n",
    "#只要python解释器执行到了这个代码,那么就会自动的进行装饰,而不是等到调用的时候才装饰的\n",
    "@w1\n",
    "@w2\n",
    "def f1():\n",
    "    print(\"---f1---\")\n",
    "\n",
    "#在调用f1之前,已经进行装饰了\n",
    "f1()"
   ]
  },
  {
   "cell_type": "markdown",
   "metadata": {},
   "source": [
    "### 装饰器对有参数函数进行装饰"
   ]
  },
  {
   "cell_type": "code",
   "execution_count": 4,
   "metadata": {},
   "outputs": [
    {
     "name": "stdout",
     "output_type": "stream",
     "text": [
      "- - -func- - - 1 - -\n",
      "- - -func- - - 2 - -\n",
      "- - -func_in - - 1 - -\n",
      "- - -test- - -\n",
      "- - -func_in - - 2 - -\n"
     ]
    }
   ],
   "source": [
    "#不带参数的装饰器\n",
    "def func(functionName):\n",
    "    print(\"- - -func- - - 1 - -\")\n",
    "    def func_in():\n",
    "        print(\"- - -func_in - - 1 - -\")\n",
    "        functionName()\n",
    "        print(\"- - -func_in - - 2 - -\")\n",
    "    print(\"- - -func- - - 2 - -\")\n",
    "    return func_in\n",
    "\n",
    "@func\n",
    "def test():\n",
    "    print(\"- - -test- - -\")\n",
    "    \n",
    "# test = func(test)\n",
    "test()"
   ]
  },
  {
   "cell_type": "code",
   "execution_count": 9,
   "metadata": {},
   "outputs": [
    {
     "name": "stdout",
     "output_type": "stream",
     "text": [
      "- - -func- - - 1 - -\n",
      "- - -func- - - 2 - -\n",
      "- - -func_in - - 1 - -\n",
      "- - -test-a=11,b=22- - -\n",
      "- - -func_in - - 2 - -\n"
     ]
    }
   ],
   "source": [
    "#定长参数\n",
    "def func(functionName):\n",
    "    print(\"- - -func- - - 1 - -\")\n",
    "    def func_in(a,b):  #如果a,b 没有定义,那么会导致16行的调用失败\n",
    "        print(\"- - -func_in - - 1 - -\")\n",
    "        functionName(a,b)#如果没有把a,b当做实参进行传递,那么会导致调用12行的函数失败\n",
    "        print(\"- - -func_in - - 2 - -\")\n",
    "    print(\"- - -func- - - 2 - -\")\n",
    "    return func_in\n",
    "\n",
    "@func\n",
    "def test(a,b):\n",
    "    print(\"- - -test-a=%d,b=%d- - -\"%(a,b))\n",
    "\n",
    "test(11,22)"
   ]
  },
  {
   "cell_type": "code",
   "execution_count": 12,
   "metadata": {},
   "outputs": [
    {
     "name": "stdout",
     "output_type": "stream",
     "text": [
      "- - -func- - - 1 - -\n",
      "- - -func- - - 2 - -\n",
      "- - -func- - - 1 - -\n",
      "- - -func- - - 2 - -\n",
      "- - -func_in - - 1 - -\n",
      "- - -test-a=11,b=22,c=33- - -\n",
      "- - -func_in - - 2 - -\n",
      "- - -func_in - - 1 - -\n",
      "- - -test-a=44,b=55,c=66,d=77- - -\n",
      "- - -func_in - - 2 - -\n"
     ]
    }
   ],
   "source": [
    "#不定长参数\n",
    "def func(functionName):\n",
    "    print(\"- - -func- - - 1 - -\")\n",
    "    def func_in(*args,**kwargs):#采用不定长参数的方式满足所有函数需要参数以及不需要参数的情况\n",
    "        print(\"- - -func_in - - 1 - -\")\n",
    "        functionName(*args,**kwargs)#这个地方,需要写*以及**,如果不写的话,那么args是元祖,而kwargs是字典\n",
    "        print(\"- - -func_in - - 2 - -\")\n",
    "    print(\"- - -func- - - 2 - -\")\n",
    "    return func_in\n",
    "\n",
    "@func\n",
    "def test(a,b,c):\n",
    "    print(\"- - -test-a=%d,b=%d,c=%d- - -\"%(a,b,c))\n",
    "    \n",
    "@func\n",
    "def test2(a,b,c,d):\n",
    "    print(\"- - -test-a=%d,b=%d,c=%d,d=%d- - -\"%(a,b,c,d))\n",
    "    \n",
    "test(11,22,33)\n",
    "test2(44,55,66,77)"
   ]
  },
  {
   "cell_type": "markdown",
   "metadata": {},
   "source": [
    "### 装饰器对带有返回值的函数进行装饰"
   ]
  },
  {
   "cell_type": "code",
   "execution_count": 14,
   "metadata": {},
   "outputs": [
    {
     "name": "stdout",
     "output_type": "stream",
     "text": [
      "- - -func- - - 1 - -\n",
      "- - -func- - - 2 - -\n",
      "- - -func_in - - 1 - -\n",
      "- - -test- - -\n",
      "- - -func_in - - 2 - -\n",
      "test return value is None\n"
     ]
    }
   ],
   "source": [
    "#返回值为空\n",
    "def func(functionName):\n",
    "    print(\"- - -func- - - 1 - -\")\n",
    "    def func_in():\n",
    "        print(\"- - -func_in - - 1 - -\")\n",
    "        functionName()\n",
    "        print(\"- - -func_in - - 2 - -\")\n",
    "    print(\"- - -func- - - 2 - -\")\n",
    "    return func_in\n",
    "\n",
    "@func \n",
    "def test():\n",
    "    print(\"- - -test- - -\")\n",
    "    return \"Hello world\"\n",
    "\n",
    "ret = test()\n",
    "print(\"test return value is %s\"%ret)"
   ]
  },
  {
   "cell_type": "code",
   "execution_count": 21,
   "metadata": {},
   "outputs": [
    {
     "name": "stdout",
     "output_type": "stream",
     "text": [
      "- - -func- - - 1 - -\n",
      "- - -func- - - 2 - -\n",
      "- - -func_in - - 1 - -\n",
      "- - -test- - -\n",
      "- - -func_in - - 2 - -\n",
      "test return value is Hello world\n"
     ]
    }
   ],
   "source": [
    "#有返回值\n",
    "def func(functionName):\n",
    "    print(\"- - -func- - - 1 - -\")\n",
    "    def func_in():\n",
    "        print(\"- - -func_in - - 1 - -\")\n",
    "        ret = functionName() #保存返回来的 Hello world\n",
    "        print(\"- - -func_in - - 2 - -\")\n",
    "        return ret  #把 Helloworld 返回到 ret=test()处的调用\n",
    "    print(\"- - -func- - - 2 - -\")\n",
    "    return func_in\n",
    "\n",
    "@func \n",
    "def test():\n",
    "    print(\"- - -test- - -\")\n",
    "    return \"Hello world\"\n",
    "\n",
    "ret = test()\n",
    "print(\"test return value is %s\"%ret)\n",
    "### ret = test() 中的 test()函数指向func_in(),去调func_in()函数，当func_in()函数无返回值时，test()函数就没有返回值，即为None\n",
    "### functionName指向 def test()这个函数，故执行完functionName()后，functionName得到了返回值 Hello world，此时找个变量接收functionName()\n",
    "#   执行后的返回值(\"Hello world\"),在return，就可以让func_in()函数有返回值，即ret=test()中的test()执行后有返回值"
   ]
  },
  {
   "cell_type": "markdown",
   "metadata": {},
   "source": [
    "### 通用装饰器"
   ]
  },
  {
   "cell_type": "code",
   "execution_count": 20,
   "metadata": {},
   "outputs": [
    {
     "name": "stdout",
     "output_type": "stream",
     "text": [
      "- - -记录日志- - -\n",
      "- - -test- - -\n",
      "test return value is Hello world\n",
      "- - -记录日志- - -\n",
      "- - -test2- - -\n",
      "- - -记录日志- - -\n",
      "- - - test3-a=11 - - -\n"
     ]
    }
   ],
   "source": [
    "def func(functionName):\n",
    "    def func_in(*args,**kwargs):\n",
    "        print(\"- - -记录日志- - -\")\n",
    "        ret = functionName(*args,**kwargs)\n",
    "        return ret\n",
    "    \n",
    "    return func_in\n",
    "\n",
    "@func \n",
    "def test():\n",
    "    print(\"- - -test- - -\")\n",
    "    return \"Hello world\"\n",
    "\n",
    "@func\n",
    "def test2():\n",
    "    print(\"- - -test2- - -\")\n",
    "    \n",
    "@func\n",
    "def test3(a):\n",
    "    print(\"- - - test3-a=%d - - -\"%a)\n",
    "\n",
    "ret = test()\n",
    "print(\"test return value is %s\"%ret)\n",
    "\n",
    "test2()\n",
    "\n",
    "test3(11)"
   ]
  },
  {
   "cell_type": "markdown",
   "metadata": {},
   "source": [
    "### 带有参数的装饰器"
   ]
  },
  {
   "cell_type": "code",
   "execution_count": null,
   "metadata": {},
   "outputs": [],
   "source": []
  }
 ],
 "metadata": {
  "kernelspec": {
   "display_name": "Python 3",
   "language": "python",
   "name": "python3"
  },
  "language_info": {
   "codemirror_mode": {
    "name": "ipython",
    "version": 3
   },
   "file_extension": ".py",
   "mimetype": "text/x-python",
   "name": "python",
   "nbconvert_exporter": "python",
   "pygments_lexer": "ipython3",
   "version": "3.5.2"
  }
 },
 "nbformat": 4,
 "nbformat_minor": 2
}
