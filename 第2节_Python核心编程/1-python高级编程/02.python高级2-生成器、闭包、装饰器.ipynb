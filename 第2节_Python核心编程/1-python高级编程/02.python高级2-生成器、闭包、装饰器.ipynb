{
 "cells": [
  {
   "cell_type": "markdown",
   "metadata": {},
   "source": [
    "### 迭代器"
   ]
  },
  {
   "cell_type": "markdown",
   "metadata": {},
   "source": [
    "以直接作用于for循环的数据类型有以下几种："
   ]
  },
  {
   "cell_type": "markdown",
   "metadata": {},
   "source": [
    "一类是集合数据类型（list、tuple、dict、set、str）,一类是generator包括生成器和yield，这些可以直接作用于for循环的对象都统称为可迭代对象。"
   ]
  },
  {
   "cell_type": "markdown",
   "metadata": {},
   "source": [
    "#### 判断是否可迭代"
   ]
  },
  {
   "cell_type": "markdown",
   "metadata": {},
   "source": [
    "可用isinstance()判断一个对象是否是 Iterable对象："
   ]
  },
  {
   "cell_type": "code",
   "execution_count": 1,
   "metadata": {},
   "outputs": [
    {
     "data": {
      "text/plain": [
       "False"
      ]
     },
     "execution_count": 1,
     "metadata": {},
     "output_type": "execute_result"
    }
   ],
   "source": [
    "from collections import Iterable\n",
    "isinstance(\"abc\",Iterable)  #True,可迭代\n",
    "isinstance(100,Iterable)    #False,不可迭代"
   ]
  },
  {
   "cell_type": "markdown",
   "metadata": {},
   "source": [
    "#### 可以被next()函数调用并不断返回下一个值的对象称为迭代器：Iterator.可以使用isinstance()判断一个对象是否是Iterator对象："
   ]
  },
  {
   "cell_type": "code",
   "execution_count": 5,
   "metadata": {},
   "outputs": [
    {
     "data": {
      "text/plain": [
       "True"
      ]
     },
     "execution_count": 5,
     "metadata": {},
     "output_type": "execute_result"
    }
   ],
   "source": [
    "from collections import Iterator\n",
    "isinstance((x for x in range(10)),Iterator)"
   ]
  },
  {
   "cell_type": "code",
   "execution_count": 6,
   "metadata": {},
   "outputs": [
    {
     "data": {
      "text/plain": [
       "False"
      ]
     },
     "execution_count": 6,
     "metadata": {},
     "output_type": "execute_result"
    }
   ],
   "source": [
    "from collections import Iterator\n",
    "isinstance([],Iterator)"
   ]
  },
  {
   "cell_type": "markdown",
   "metadata": {},
   "source": [
    "#### 生成器都是Iterator,但list、dict/str虽然是Iteratable,却不是Iterator。把list、dict、str等Iterable可以使用iter()函数"
   ]
  },
  {
   "cell_type": "code",
   "execution_count": 8,
   "metadata": {},
   "outputs": [
    {
     "data": {
      "text/plain": [
       "True"
      ]
     },
     "execution_count": 8,
     "metadata": {},
     "output_type": "execute_result"
    }
   ],
   "source": [
    "isinstance(iter([]),Iterator)"
   ]
  },
  {
   "cell_type": "code",
   "execution_count": 9,
   "metadata": {},
   "outputs": [
    {
     "data": {
      "text/plain": [
       "True"
      ]
     },
     "execution_count": 9,
     "metadata": {},
     "output_type": "execute_result"
    }
   ],
   "source": [
    "isinstance(iter(\"abc\"),Iterator)"
   ]
  },
  {
   "cell_type": "markdown",
   "metadata": {},
   "source": [
    "#### 总结：凡是可作用于for循环的对象都是 Iterable类型；\n",
    "   ####     凡是作用于next()的函数的对象都是Iterator类型；\n",
    "####            集合数据类型如list、dict、str等是Iterable 但不是 Iterator，不过可以通过iter()函数获得一个Iterator对象。"
   ]
  },
  {
   "cell_type": "markdown",
   "metadata": {},
   "source": [
    "### 闭包"
   ]
  },
  {
   "cell_type": "markdown",
   "metadata": {},
   "source": [
    "在函数内部再定义一个函数，并且这个函数用到了外边函数的变量，那么我们将这个函数以及用到的一些变量，里面的整体为闭包"
   ]
  },
  {
   "cell_type": "code",
   "execution_count": 10,
   "metadata": {},
   "outputs": [
    {
     "name": "stdout",
     "output_type": "stream",
     "text": [
      "in test_in 函数，number_in is 100\n",
      "120\n",
      "in test_in 函数，number_in is 200\n",
      "220\n"
     ]
    }
   ],
   "source": [
    "#定义一个函数\n",
    "def test(number):\n",
    "    \n",
    "    #在函数内部再定义一个函数，并且这个函数用到了外边函数的变量，那么我们将这个函数以及用到的一些变量，里面的整体为闭包\n",
    "    def test_in(number_in):\n",
    "        print(\"in test_in 函数，number_in is %d\" % number_in)\n",
    "        return number+number_in\n",
    "    \n",
    "    #其实这里返回的就是闭包的结果\n",
    "    return test_in                  #####return了 test_in 指向的函数体\n",
    "\n",
    "#给test函数赋值，这个20就是给参数number\n",
    "ret = test(20)\n",
    "\n",
    "#注意这里的100其实给参数number_in\n",
    "print(ret(100))\n",
    "\n",
    "#注意这里的200其实给参数number_in\\\n",
    "print(ret(200))"
   ]
  },
  {
   "cell_type": "code",
   "execution_count": 11,
   "metadata": {},
   "outputs": [
    {
     "name": "stdout",
     "output_type": "stream",
     "text": [
      "---1---\n",
      "---3---\n",
      "----------\n",
      "---2---\n",
      "101\n"
     ]
    }
   ],
   "source": [
    "#闭包特点:当执行test(100)返回number为100，再次执行ret()会使用上一次的number值最后得到结果101\n",
    "def test(number):\n",
    "    print(\"---1---\")\n",
    "    def test_in(number2):\n",
    "        print(\"---2---\")\n",
    "        print(number+number2)\n",
    "    print(\"---3---\")\n",
    "    return test_in   #返回test_in指向test_in()函数的引用\n",
    "\n",
    "ret = test(100) #ret指向test_in，也就是全部指向test_in()的函数体\n",
    "print(\"-\"*10)\n",
    "ret(1)"
   ]
  },
  {
   "cell_type": "markdown",
   "metadata": {},
   "source": [
    "#### 闭包的应用"
   ]
  },
  {
   "cell_type": "markdown",
   "metadata": {},
   "source": [
    "1、简化调用方式，比传统写法调用简便（a,b不变，只变化x）"
   ]
  },
  {
   "cell_type": "code",
   "execution_count": 12,
   "metadata": {},
   "outputs": [
    {
     "name": "stdout",
     "output_type": "stream",
     "text": [
      "7\n",
      "25\n"
     ]
    }
   ],
   "source": [
    "def line_conf(a, b):\n",
    "    \n",
    "    def line(x):\n",
    "        return a*x + b\n",
    "    \n",
    "    return line\n",
    "\n",
    "line1 = line_conf(1,2)\n",
    "line2 = line_conf(4,5)\n",
    "print(line1(5))\n",
    "print(line2(5))"
   ]
  },
  {
   "cell_type": "markdown",
   "metadata": {},
   "source": [
    "### 装饰器"
   ]
  },
  {
   "cell_type": "markdown",
   "metadata": {},
   "source": [
    "在不改变原函数功能的情况下添加新功能"
   ]
  },
  {
   "cell_type": "code",
   "execution_count": 16,
   "metadata": {},
   "outputs": [
    {
     "name": "stdout",
     "output_type": "stream",
     "text": [
      "- - -正在验证权限- - -\n",
      "- - -f1- - -\n",
      "- - -正在验证权限- - -\n",
      "- - -f2- - -\n"
     ]
    }
   ],
   "source": [
    "def w1(func):\n",
    "    def inner():\n",
    "        print(\"- - -正在验证权限- - -\")\n",
    "        if True:\n",
    "            func()\n",
    "        else:\n",
    "            print(\"没有权限\")\n",
    "    return inner\n",
    "\n",
    "@w1    \n",
    "def f1():\n",
    "    print(\"- - -f1- - -\")\n",
    "\n",
    "@w1\n",
    "def f2():\n",
    "    print(\"- - -f2- - -\")\n",
    "    \n",
    "# innerFunc = w1(f1)\n",
    "# innerFunc()\n",
    "\n",
    "#f1 = w1(f1)  # 等价于 @w1\n",
    "f1()\n",
    "f2()"
   ]
  },
  {
   "cell_type": "markdown",
   "metadata": {},
   "source": [
    "### 2个装饰器"
   ]
  },
  {
   "cell_type": "code",
   "execution_count": 4,
   "metadata": {},
   "outputs": [
    {
     "name": "stdout",
     "output_type": "stream",
     "text": [
      "----1---\n",
      "----2---\n",
      "----3---\n",
      "<b><i>hello world-3</i></b>\n"
     ]
    }
   ],
   "source": [
    "#定义函数：完成包裹数据\n",
    "def makeBold(fn):\n",
    "    def wrapped():\n",
    "        print(\"----1---\")\n",
    "        return \"<b>\" + fn() + \"</b>\"\n",
    "    return wrapped\n",
    "\n",
    "#定义函数：完成包裹数据\n",
    "def makeItalic(fn):\n",
    "    def wrapped():\n",
    "        print(\"----2---\")\n",
    "        return \"<i>\" + fn() + \"</i>\"\n",
    "    return wrapped\n",
    "\n",
    "#先执行装饰器@makeItalic\n",
    "@makeBold     #test3 = makeBold(test3)\n",
    "@makeItalic   #test3 = makeItalic(test3)\n",
    "def test3():\n",
    "    print(\"----3---\")\n",
    "    return \"hello world-3\"\n",
    "\n",
    "ret = test3()\n",
    "print(ret)\n",
    "\n",
    "#执行流程:\n",
    "#1.@makeBold先执行，打印 print(\"----1---\")，return wrapped函数，fn()传入调用@makeItalic\n",
    "#2.@makeItalic继续执行，打印 print(\"----2---\")，return wrapped函数，fn()传入调用test3()，输出 print(\"----3---\")和<i>hello world-3</i>\n",
    "#3.最后@makeBold才调用@makeItalic的return值"
   ]
  },
  {
   "cell_type": "markdown",
   "metadata": {},
   "source": [
    "### 装饰器执行的时间"
   ]
  },
  {
   "cell_type": "code",
   "execution_count": 6,
   "metadata": {},
   "outputs": [
    {
     "name": "stdout",
     "output_type": "stream",
     "text": [
      "---正在装饰2----\n",
      "---正在装饰1----\n",
      "---正在验证权限1----\n",
      "---正在验证权限2----\n",
      "---f1---\n"
     ]
    }
   ],
   "source": [
    "def w1(func):\n",
    "    print(\"---正在装饰1----\")\n",
    "    def inner():\n",
    "        print(\"---正在验证权限1----\")\n",
    "        func()\n",
    "    return inner\n",
    "\n",
    "def w2(func):\n",
    "    print(\"---正在装饰2----\")\n",
    "    def inner():\n",
    "        print(\"---正在验证权限2----\")\n",
    "        func()\n",
    "    return inner\n",
    "\n",
    "#只要python解释器执行到了这个代码,那么就会自动的进行装饰,而不是等到调用的时候才装饰的\n",
    "@w1\n",
    "@w2\n",
    "def f1():\n",
    "    print(\"---f1---\")\n",
    "\n",
    "#在调用f1之前,已经进行装饰了\n",
    "f1()"
   ]
  },
  {
   "cell_type": "markdown",
   "metadata": {},
   "source": [
    "### 装饰器对有参数函数进行装饰"
   ]
  },
  {
   "cell_type": "code",
   "execution_count": 4,
   "metadata": {},
   "outputs": [
    {
     "name": "stdout",
     "output_type": "stream",
     "text": [
      "- - -func- - - 1 - -\n",
      "- - -func- - - 2 - -\n",
      "- - -func_in - - 1 - -\n",
      "- - -test- - -\n",
      "- - -func_in - - 2 - -\n"
     ]
    }
   ],
   "source": [
    "#不带参数的装饰器\n",
    "def func(functionName):\n",
    "    print(\"- - -func- - - 1 - -\")\n",
    "    def func_in():\n",
    "        print(\"- - -func_in - - 1 - -\")\n",
    "        functionName()\n",
    "        print(\"- - -func_in - - 2 - -\")\n",
    "    print(\"- - -func- - - 2 - -\")\n",
    "    return func_in\n",
    "\n",
    "@func\n",
    "def test():\n",
    "    print(\"- - -test- - -\")\n",
    "    \n",
    "# test = func(test)\n",
    "test()"
   ]
  },
  {
   "cell_type": "code",
   "execution_count": 9,
   "metadata": {},
   "outputs": [
    {
     "name": "stdout",
     "output_type": "stream",
     "text": [
      "- - -func- - - 1 - -\n",
      "- - -func- - - 2 - -\n",
      "- - -func_in - - 1 - -\n",
      "- - -test-a=11,b=22- - -\n",
      "- - -func_in - - 2 - -\n"
     ]
    }
   ],
   "source": [
    "#定长参数\n",
    "def func(functionName):\n",
    "    print(\"- - -func- - - 1 - -\")\n",
    "    def func_in(a,b):  #如果a,b 没有定义,那么会导致16行的调用失败\n",
    "        print(\"- - -func_in - - 1 - -\")\n",
    "        functionName(a,b)#如果没有把a,b当做实参进行传递,那么会导致调用12行的函数失败\n",
    "        print(\"- - -func_in - - 2 - -\")\n",
    "    print(\"- - -func- - - 2 - -\")\n",
    "    return func_in\n",
    "\n",
    "@func\n",
    "def test(a,b):\n",
    "    print(\"- - -test-a=%d,b=%d- - -\"%(a,b))\n",
    "\n",
    "test(11,22)"
   ]
  },
  {
   "cell_type": "code",
   "execution_count": 12,
   "metadata": {},
   "outputs": [
    {
     "name": "stdout",
     "output_type": "stream",
     "text": [
      "- - -func- - - 1 - -\n",
      "- - -func- - - 2 - -\n",
      "- - -func- - - 1 - -\n",
      "- - -func- - - 2 - -\n",
      "- - -func_in - - 1 - -\n",
      "- - -test-a=11,b=22,c=33- - -\n",
      "- - -func_in - - 2 - -\n",
      "- - -func_in - - 1 - -\n",
      "- - -test-a=44,b=55,c=66,d=77- - -\n",
      "- - -func_in - - 2 - -\n"
     ]
    }
   ],
   "source": [
    "#不定长参数\n",
    "def func(functionName):\n",
    "    print(\"- - -func- - - 1 - -\")\n",
    "    def func_in(*args,**kwargs):#采用不定长参数的方式满足所有函数需要参数以及不需要参数的情况\n",
    "        print(\"- - -func_in - - 1 - -\")\n",
    "        functionName(*args,**kwargs)#这个地方,需要写*以及**,如果不写的话,那么args是元祖,而kwargs是字典\n",
    "        print(\"- - -func_in - - 2 - -\")\n",
    "    print(\"- - -func- - - 2 - -\")\n",
    "    return func_in\n",
    "\n",
    "@func\n",
    "def test(a,b,c):\n",
    "    print(\"- - -test-a=%d,b=%d,c=%d- - -\"%(a,b,c))\n",
    "    \n",
    "@func\n",
    "def test2(a,b,c,d):\n",
    "    print(\"- - -test-a=%d,b=%d,c=%d,d=%d- - -\"%(a,b,c,d))\n",
    "    \n",
    "test(11,22,33)\n",
    "test2(44,55,66,77)"
   ]
  },
  {
   "cell_type": "markdown",
   "metadata": {},
   "source": [
    "### 装饰器对带有返回值的函数进行装饰"
   ]
  },
  {
   "cell_type": "code",
   "execution_count": 14,
   "metadata": {},
   "outputs": [
    {
     "name": "stdout",
     "output_type": "stream",
     "text": [
      "- - -func- - - 1 - -\n",
      "- - -func- - - 2 - -\n",
      "- - -func_in - - 1 - -\n",
      "- - -test- - -\n",
      "- - -func_in - - 2 - -\n",
      "test return value is None\n"
     ]
    }
   ],
   "source": [
    "#返回值为空\n",
    "def func(functionName):\n",
    "    print(\"- - -func- - - 1 - -\")\n",
    "    def func_in():\n",
    "        print(\"- - -func_in - - 1 - -\")\n",
    "        functionName()\n",
    "        print(\"- - -func_in - - 2 - -\")\n",
    "    print(\"- - -func- - - 2 - -\")\n",
    "    return func_in\n",
    "\n",
    "@func \n",
    "def test():\n",
    "    print(\"- - -test- - -\")\n",
    "    return \"Hello world\"\n",
    "\n",
    "ret = test()\n",
    "print(\"test return value is %s\"%ret)"
   ]
  },
  {
   "cell_type": "code",
   "execution_count": 21,
   "metadata": {},
   "outputs": [
    {
     "name": "stdout",
     "output_type": "stream",
     "text": [
      "- - -func- - - 1 - -\n",
      "- - -func- - - 2 - -\n",
      "- - -func_in - - 1 - -\n",
      "- - -test- - -\n",
      "- - -func_in - - 2 - -\n",
      "test return value is Hello world\n"
     ]
    }
   ],
   "source": [
    "#有返回值\n",
    "def func(functionName):\n",
    "    print(\"- - -func- - - 1 - -\")\n",
    "    def func_in():\n",
    "        print(\"- - -func_in - - 1 - -\")\n",
    "        ret = functionName() #保存返回来的 Hello world\n",
    "        print(\"- - -func_in - - 2 - -\")\n",
    "        return ret  #把 Helloworld 返回到 ret=test()处的调用\n",
    "    print(\"- - -func- - - 2 - -\")\n",
    "    return func_in\n",
    "\n",
    "@func \n",
    "def test():\n",
    "    print(\"- - -test- - -\")\n",
    "    return \"Hello world\"\n",
    "\n",
    "ret = test()\n",
    "print(\"test return value is %s\"%ret)\n",
    "### ret = test() 中的 test()函数指向func_in(),去调func_in()函数，当func_in()函数无返回值时，test()函数就没有返回值，即为None\n",
    "### functionName指向 def test()这个函数，故执行完functionName()后，functionName得到了返回值 Hello world，此时找个变量接收functionName()\n",
    "#   执行后的返回值(\"Hello world\"),在return，就可以让func_in()函数有返回值，即ret=test()中的test()执行后有返回值"
   ]
  },
  {
   "cell_type": "markdown",
   "metadata": {},
   "source": [
    "### 通用装饰器"
   ]
  },
  {
   "cell_type": "code",
   "execution_count": 20,
   "metadata": {},
   "outputs": [
    {
     "name": "stdout",
     "output_type": "stream",
     "text": [
      "- - -记录日志- - -\n",
      "- - -test- - -\n",
      "test return value is Hello world\n",
      "- - -记录日志- - -\n",
      "- - -test2- - -\n",
      "- - -记录日志- - -\n",
      "- - - test3-a=11 - - -\n"
     ]
    }
   ],
   "source": [
    "def func(functionName):\n",
    "    def func_in(*args,**kwargs):\n",
    "        print(\"- - -记录日志- - -\")\n",
    "        ret = functionName(*args,**kwargs)\n",
    "        return ret\n",
    "    \n",
    "    return func_in\n",
    "\n",
    "@func \n",
    "def test():\n",
    "    print(\"- - -test- - -\")\n",
    "    return \"Hello world\"\n",
    "\n",
    "@func\n",
    "def test2():\n",
    "    print(\"- - -test2- - -\")\n",
    "    \n",
    "@func\n",
    "def test3(a):\n",
    "    print(\"- - - test3-a=%d - - -\"%a)\n",
    "\n",
    "ret = test()\n",
    "print(\"test return value is %s\"%ret)\n",
    "\n",
    "test2()\n",
    "\n",
    "test3(11)"
   ]
  },
  {
   "cell_type": "markdown",
   "metadata": {},
   "source": [
    "### 带有参数的装饰器"
   ]
  },
  {
   "cell_type": "code",
   "execution_count": 13,
   "metadata": {},
   "outputs": [
    {
     "name": "stdout",
     "output_type": "stream",
     "text": [
      "- - -记录日志- arg=heihei- -\n",
      "- - -test- - -\n",
      "- - -test- - -\n",
      "- - -记录日志- arg=haha- -\n",
      "--test2--\n"
     ]
    }
   ],
   "source": [
    "def func_arg(arg):\n",
    "    def func(functionName):\n",
    "        def func_in():\n",
    "            print(\"- - -记录日志- arg=%s- -\"%arg) \n",
    "            if arg == \"heihei\": #根据传入的参数不同，装饰的内容不同\n",
    "                functionName()\n",
    "                functionName()\n",
    "            else:\n",
    "                functionName()\n",
    "        return func_in\n",
    "    return func\n",
    "\n",
    "#1. 先执行func_arg(\"heihei\")函数,这个函数return 的结果是func这个函数的引用\n",
    "#2. @func\n",
    "#3. 使用@func对test进行装饰\n",
    "@func_arg(\"heihei\")\n",
    "def test():\n",
    "    print(\"- - -test- - -\")\n",
    "    \n",
    "test()\n",
    "\n",
    "#带有参数的装饰器,能够起到在运行时,有不同的功能\n",
    "@func_arg(\"haha\")\n",
    "def test2():\n",
    "    print(\"--test2--\")\n",
    "    \n",
    "test2()"
   ]
  },
  {
   "cell_type": "markdown",
   "metadata": {},
   "source": [
    "### 作用域"
   ]
  },
  {
   "cell_type": "markdown",
   "metadata": {},
   "source": [
    "globals()查看全局变量和locals()查看局部变量"
   ]
  },
  {
   "cell_type": "markdown",
   "metadata": {},
   "source": [
    "LEGB规则：Python使用LEGB的顺序来查找一个符号对应的对象"
   ]
  },
  {
   "cell_type": "markdown",
   "metadata": {},
   "source": [
    "#### locals->enclosing function -> globals -> builtins"
   ]
  },
  {
   "cell_type": "markdown",
   "metadata": {},
   "source": [
    "#### locals:当前所在命名空间（如函数、模块），函数的参数也属于命名空间内的变量"
   ]
  },
  {
   "cell_type": "markdown",
   "metadata": {},
   "source": [
    "#### enclosing:外部嵌套函数的命名空间（闭包中常见）"
   ]
  },
  {
   "cell_type": "code",
   "execution_count": 17,
   "metadata": {},
   "outputs": [
    {
     "name": "stdout",
     "output_type": "stream",
     "text": [
      "10\n"
     ]
    }
   ],
   "source": [
    "def fun1():\n",
    "    a = 10\n",
    "    def fun2():\n",
    "        # a位于外部嵌套函数的命名空间\n",
    "        print(a)\n",
    "    return fun2\n",
    "\n",
    "ret = fun1()\n",
    "ret()"
   ]
  },
  {
   "cell_type": "markdown",
   "metadata": {},
   "source": [
    "#### globals:全局变量，函数定义所在模块的命名空间"
   ]
  },
  {
   "cell_type": "code",
   "execution_count": 19,
   "metadata": {},
   "outputs": [
    {
     "name": "stdout",
     "output_type": "stream",
     "text": [
      "2\n"
     ]
    }
   ],
   "source": [
    "a = 1\n",
    "def fun():\n",
    "    #需要通过 global 指令来声明全局变量\n",
    "    global a \n",
    "    #修改全局变了\n",
    "    a = 2\n",
    "    print(a)\n",
    "    \n",
    "fun()"
   ]
  },
  {
   "cell_type": "markdown",
   "metadata": {},
   "source": [
    "### Python动态添加属性以及方法"
   ]
  },
  {
   "cell_type": "markdown",
   "metadata": {},
   "source": [
    "#### 给对象添加属性"
   ]
  },
  {
   "cell_type": "code",
   "execution_count": 26,
   "metadata": {},
   "outputs": [
    {
     "name": "stdout",
     "output_type": "stream",
     "text": [
      "老王\n",
      "30\n",
      "北京...\n",
      "100\n",
      "100\n"
     ]
    }
   ],
   "source": [
    "class Person(object):\n",
    "    def __init__(self, newName, newAge):\n",
    "        self.name = newName\n",
    "        self.age = newAge\n",
    "        \n",
    "laowang = Person(\"老王\",30)\n",
    "print(laowang.name)\n",
    "print(laowang.age)\n",
    "\n",
    "laowang.addr = \"北京...\"\n",
    "print(laowang.addr)\n",
    "\n",
    "laozhao = Person(\"老赵\",25)\n",
    "# print(laozhao.addr)   # 报错，老赵没有addr属性\n",
    "\n",
    "#添加类属性\n",
    "Person.num = 100\n",
    "print(laowang.num)\n",
    "print(laozhao.num)"
   ]
  },
  {
   "cell_type": "markdown",
   "metadata": {},
   "source": [
    "#### 给对象添加方法"
   ]
  },
  {
   "cell_type": "code",
   "execution_count": 27,
   "metadata": {},
   "outputs": [
    {
     "name": "stdout",
     "output_type": "stream",
     "text": [
      "- - -p1正在吃- - -\n",
      "- - -p1正在跑- - -\n"
     ]
    }
   ],
   "source": [
    "import types\n",
    "\n",
    "class Person(object):\n",
    "    def __init__(self, newName, newAge):\n",
    "        self.name = newName\n",
    "        self.age = newAge\n",
    "    \n",
    "    def eat(self):\n",
    "        print(\"- - -%s正在吃- - -\"%self.name)\n",
    "\n",
    "\n",
    "def run(self):\n",
    "    print(\"- - -%s正在跑- - -\"%self.name)\n",
    "\n",
    "\n",
    "p1 = Person(\"p1\", 10)\n",
    "p1.eat()\n",
    "#添加方法,types.MethodType(函数名,对象名)\n",
    "# p1.run = run\n",
    "# p1.run()   # 虽然p1对象中 run 属性已经指向了def run()函数，但是这句代码还不正确，因为\n",
    "             #run属性指向的函数，是后来添加的，即p1.run() 的时候，并没把p1当作第一个参数，\n",
    "            # 导致了第10行的函数调用的时候，出现缺少参数的问题\n",
    "p1.run = types.MethodType(run,p1)\n",
    "p1.run()"
   ]
  },
  {
   "cell_type": "markdown",
   "metadata": {},
   "source": [
    "#### 给类添加静态属性"
   ]
  },
  {
   "cell_type": "code",
   "execution_count": 33,
   "metadata": {},
   "outputs": [
    {
     "name": "stdout",
     "output_type": "stream",
     "text": [
      "- - -static method- - -\n",
      "- - -static method- - -\n"
     ]
    }
   ],
   "source": [
    "class P(object):\n",
    "    def __init__(self, newName):\n",
    "        self.name = newName\n",
    "\n",
    "@staticmethod\n",
    "def test():\n",
    "    print(\"- - -static method- - -\")\n",
    "    \n",
    "P.test = test\n",
    "P.test()\n",
    "# P.xxx = test  #一般用上面一种添加、调用方式\n",
    "# P.xxx()"
   ]
  },
  {
   "cell_type": "markdown",
   "metadata": {},
   "source": [
    "#### 给类添加类方法"
   ]
  },
  {
   "cell_type": "code",
   "execution_count": 34,
   "metadata": {},
   "outputs": [
    {
     "name": "stdout",
     "output_type": "stream",
     "text": [
      "- - - class method - - -\n"
     ]
    }
   ],
   "source": [
    "class P(object):\n",
    "    def __init__(self, newName):\n",
    "        self.name = newName\n",
    "        \n",
    "@classmethod\n",
    "def printNum(cls):\n",
    "    print(\"- - - class method - - -\")\n",
    "    \n",
    "P.printNum = printNum\n",
    "P.printNum()"
   ]
  },
  {
   "cell_type": "markdown",
   "metadata": {},
   "source": [
    "### \\__slots\\__的作用"
   ]
  },
  {
   "cell_type": "markdown",
   "metadata": {},
   "source": [
    "#### 为了达到限制的目的，Python允许在定义class的时候，定义一个特殊的\\__slots\\__变量，来限制该class实例能添加的属性："
   ]
  },
  {
   "cell_type": "markdown",
   "metadata": {},
   "source": [
    "#### 使用\\__slots\\__要注意，\\__slots\\__定义的属性仅对当前类实例起作用，对继承的子类是不起作用的"
   ]
  },
  {
   "cell_type": "code",
   "execution_count": 38,
   "metadata": {},
   "outputs": [
    {
     "ename": "AttributeError",
     "evalue": "'Person' object has no attribute 'score'",
     "output_type": "error",
     "traceback": [
      "\u001b[1;31m---------------------------------------------------------------------------\u001b[0m",
      "\u001b[1;31mAttributeError\u001b[0m                            Traceback (most recent call last)",
      "\u001b[1;32m<ipython-input-38-065f926e08b5>\u001b[0m in \u001b[0;36m<module>\u001b[1;34m()\u001b[0m\n\u001b[0;32m      5\u001b[0m \u001b[0mP\u001b[0m\u001b[1;33m.\u001b[0m\u001b[0mname\u001b[0m \u001b[1;33m=\u001b[0m \u001b[1;34m\"老王\"\u001b[0m\u001b[1;33m\u001b[0m\u001b[0m\n\u001b[0;32m      6\u001b[0m \u001b[0mP\u001b[0m\u001b[1;33m.\u001b[0m\u001b[0mage\u001b[0m \u001b[1;33m=\u001b[0m \u001b[1;36m20\u001b[0m\u001b[1;33m\u001b[0m\u001b[0m\n\u001b[1;32m----> 7\u001b[1;33m \u001b[0mP\u001b[0m\u001b[1;33m.\u001b[0m\u001b[0mscore\u001b[0m \u001b[1;33m=\u001b[0m \u001b[1;36m100\u001b[0m  \u001b[1;31m#不允许添加该属性， __slots__限制了只能添加 name、age 属性\u001b[0m\u001b[1;33m\u001b[0m\u001b[0m\n\u001b[0m",
      "\u001b[1;31mAttributeError\u001b[0m: 'Person' object has no attribute 'score'"
     ]
    }
   ],
   "source": [
    "class Person(object):\n",
    "    __slots__ = (\"name\",\"age\")\n",
    "    \n",
    "P = Person()\n",
    "P.name = \"老王\"\n",
    "P.age = 20\n",
    "P.score = 100  #不允许添加该属性， __slots__限制了只能添加 name、age 属性"
   ]
  },
  {
   "cell_type": "markdown",
   "metadata": {},
   "source": [
    "### 生成器"
   ]
  },
  {
   "cell_type": "markdown",
   "metadata": {},
   "source": [
    "#### 通过列表生成式，可以直接创建一个列表。在Python中当列表生成式计算量太大，一边循环一边计算的机制，称为生成器：generator"
   ]
  },
  {
   "cell_type": "markdown",
   "metadata": {},
   "source": [
    "#### 创建生成器方法1--把列表生成式的中括号改成小括号"
   ]
  },
  {
   "cell_type": "code",
   "execution_count": 40,
   "metadata": {},
   "outputs": [
    {
     "name": "stdout",
     "output_type": "stream",
     "text": [
      "<generator object <genexpr> at 0x0000024897661938>\n",
      "0\n",
      "2\n"
     ]
    }
   ],
   "source": [
    "# 创建生成器方法1--把列表生成式的中括号改成小括号\n",
    "b = (x*2 for x in range(10))\n",
    "print(b)\n",
    "\n",
    "# next() 逐个生成,每执行一次生成一个，到最后一个还去生成会产生异常\n",
    "print(next(b))\n",
    "print(next(b))\n",
    "#next(b)\n",
    "#next(b)"
   ]
  },
  {
   "cell_type": "markdown",
   "metadata": {},
   "source": [
    "#### 创建生成器方法2--当函数中有yield则此函数为生成器"
   ]
  },
  {
   "cell_type": "code",
   "execution_count": 46,
   "metadata": {},
   "outputs": [
    {
     "name": "stdout",
     "output_type": "stream",
     "text": [
      "- -1- -\n",
      "1\n",
      "- -2- -\n",
      "- - -3- - -\n",
      "- -1- -\n",
      "1\n"
     ]
    }
   ],
   "source": [
    "#斐波那契数列，1 1 2 3 5 8 13 21 34\n",
    "def creatnum():\n",
    "    a,b = 0,1\n",
    "    for i in range(5):\n",
    "        print(\"- -1- -\")\n",
    "        yield b       #当 运行到yield,下面代码不运行，并保存b并返回\n",
    "        print(\"- -2- -\")\n",
    "        a,b = b,a+b\n",
    "        print(\"- - -3- - -\")\n",
    "    print(\"- - -stop- - -\")\n",
    "\n",
    "#创建一个生成器对象\n",
    "a = creatnum()\n",
    "print(next(a))  #再次执行，会返回2 ，到最后一个还去生成会产生异常\n",
    "print(next(a))  #再次执行next(a)，yield b下面的代码开始执行，当从上到下再次到yield时，又停止执行"
   ]
  },
  {
   "cell_type": "markdown",
   "metadata": {},
   "source": [
    "### 生成器2--send"
   ]
  },
  {
   "cell_type": "code",
   "execution_count": 48,
   "metadata": {},
   "outputs": [
    {
     "name": "stdout",
     "output_type": "stream",
     "text": [
      "- -1- -\n",
      "1\n",
      "- -2- -\n",
      "- - -3- - -\n",
      "- -1- -\n",
      "1\n",
      "- -2- -\n",
      "- - -3- - -\n",
      "- -1- -\n",
      "2\n",
      "- -2- -\n",
      "- - -3- - -\n",
      "- -1- -\n",
      "3\n",
      "- -2- -\n",
      "- - -3- - -\n",
      "- -1- -\n",
      "5\n",
      "- -2- -\n",
      "- - -3- - -\n",
      "- - -stop- - -\n"
     ]
    }
   ],
   "source": [
    "def creatnum():\n",
    "    a,b = 0,1\n",
    "    for i in range(5):\n",
    "        print(\"- -1- -\")\n",
    "        yield b       #当 运行到yield,下面代码不运行，并保存b并返回\n",
    "        print(\"- -2- -\")\n",
    "        a,b = b,a+b\n",
    "        print(\"- - -3- - -\")\n",
    "    print(\"- - -stop- - -\")\n",
    "\n",
    "#创建一个生成器对象\n",
    "a = creatnum()\n",
    "\n",
    "for num in a: #用for循环执行完不会产生异常\n",
    "    print(num)  "
   ]
  },
  {
   "cell_type": "markdown",
   "metadata": {},
   "source": [
    "#### \\__next\\__()"
   ]
  },
  {
   "cell_type": "code",
   "execution_count": 50,
   "metadata": {},
   "outputs": [
    {
     "name": "stdout",
     "output_type": "stream",
     "text": [
      "- - -1- - -\n",
      "1\n"
     ]
    }
   ],
   "source": [
    "def creatnum():\n",
    "    a,b = 0,1\n",
    "    for i in range(5):\n",
    "        print(\"- - -1- - -\")\n",
    "        yield b       #当运行到yield,后面不运行，并保存b并返回\n",
    "        print(\"- - -2- - -\")\n",
    "        a,b = b,a+b\n",
    "\n",
    "a = creatnum()\n",
    "ret = a.__next__()   #这个方式和next(a)等价\n",
    "print(ret)"
   ]
  },
  {
   "cell_type": "markdown",
   "metadata": {},
   "source": [
    "#### send"
   ]
  },
  {
   "cell_type": "code",
   "execution_count": 54,
   "metadata": {},
   "outputs": [
    {
     "name": "stdout",
     "output_type": "stream",
     "text": [
      "1\n",
      "None\n",
      "2\n",
      "None\n",
      "3\n",
      "None\n",
      "4\n"
     ]
    }
   ],
   "source": [
    "def test():\n",
    "    i = 1\n",
    "    while i < 5:\n",
    "        temp = yield i  #temp在没传值的情况下，不是i值，而是None空值 ## yield后面是什么，就返回什么\n",
    "        print(temp)\n",
    "        i +=1\n",
    "t = test()\n",
    "print(t.__next__())  #再次执行会返回下一个值\n",
    "print(next(t))\n",
    "print(next(t))\n",
    "print(next(t))"
   ]
  },
  {
   "cell_type": "code",
   "execution_count": 57,
   "metadata": {},
   "outputs": [
    {
     "name": "stdout",
     "output_type": "stream",
     "text": [
      "1\n",
      "hh\n"
     ]
    },
    {
     "data": {
      "text/plain": [
       "2"
      ]
     },
     "execution_count": 57,
     "metadata": {},
     "output_type": "execute_result"
    }
   ],
   "source": [
    "def test():\n",
    "    i = 1\n",
    "    while i < 5:\n",
    "        temp = yield i  #temp在没传值的情况下，不是i值，而是None空值 ## yield后面是什么，就返回什么\n",
    "        print(temp)\n",
    "        i +=1\n",
    "t = test()\n",
    "print(next(t))\n",
    "t.send(\"hh\")  #当执行这一句会执行temp = yield i，给temp传值hh\n",
    "              # .send()、__next__()、next()，都可以让生成器往下走，只是send()会传值给 yield i 整体\n",
    "              # .send()不能用作第一次执行生成器(第一次执行停在yield处，无法传值)，用next()、__next__()先执行一次生成器\n",
    "              # 或者用send()第一次调用生成器，这样写 send(None)"
   ]
  },
  {
   "cell_type": "markdown",
   "metadata": {},
   "source": [
    "上面第一次执行生成器时，停在了temp=yield i,并没有执行print(temp)，所以第一次执行，只是yield返回的1，没有打印temp"
   ]
  },
  {
   "cell_type": "markdown",
   "metadata": {},
   "source": [
    "### 生成器4--多任务"
   ]
  },
  {
   "cell_type": "markdown",
   "metadata": {},
   "source": [
    "#### 多任务中的一种--协程（还有进程、线程）"
   ]
  },
  {
   "cell_type": "code",
   "execution_count": 58,
   "metadata": {},
   "outputs": [
    {
     "name": "stdout",
     "output_type": "stream",
     "text": [
      "- - -1- - -\n",
      "- - -2- - -\n",
      "- - -1- - -\n",
      "- - -2- - -\n",
      "- - -1- - -\n",
      "- - -2- - -\n"
     ]
    }
   ],
   "source": [
    "def test1():\n",
    "    while True:\n",
    "        print(\"- - -1- - -\")\n",
    "        yield None\n",
    "        \n",
    "def test2():\n",
    "    while True:\n",
    "        print(\"- - -2- - -\")\n",
    "        yield None\n",
    "        \n",
    "t1 = test1()\n",
    "t2 = test2()\n",
    "i = 0\n",
    "while i < 3:\n",
    "    t1.__next__()#此处到 打印 - -1- -到yield停住，执行下一个 t2.__next__()\n",
    "    t2.__next__()#此处到 打印 - -2- -到yield停住，执行下面的代码\n",
    "    i +=1\n",
    "#三个while一直循环执行，看上去同时执行的东西就是多任务（会造成同时执行的假象，其实不是）"
   ]
  }
 ],
 "metadata": {
  "kernelspec": {
   "display_name": "Python 3",
   "language": "python",
   "name": "python3"
  },
  "language_info": {
   "codemirror_mode": {
    "name": "ipython",
    "version": 3
   },
   "file_extension": ".py",
   "mimetype": "text/x-python",
   "name": "python",
   "nbconvert_exporter": "python",
   "pygments_lexer": "ipython3",
   "version": "3.5.2"
  }
 },
 "nbformat": 4,
 "nbformat_minor": 2
}
