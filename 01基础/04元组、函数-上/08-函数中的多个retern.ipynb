{
 "cells": [
  {
   "cell_type": "code",
   "execution_count": 1,
   "metadata": {},
   "outputs": [],
   "source": [
    "# 一个函数想返回多个值，不可以用多个return来实现，可以将多个值作为一个整体返回"
   ]
  },
  {
   "cell_type": "code",
   "execution_count": 2,
   "metadata": {},
   "outputs": [
    {
     "name": "stdout",
     "output_type": "stream",
     "text": [
      "(11, 22, 33)\n"
     ]
    }
   ],
   "source": [
    "def test():\n",
    "    a= 11\n",
    "    b= 22\n",
    "    c =33\n",
    "#     第一种，用一个列表来封装3个变量的值\n",
    "#     d = [a,b,c]\n",
    "#     return d\n",
    "#     第二种\n",
    "#     return [a,b,c]\n",
    "#     第三种\n",
    "#     return (a,b,c)\n",
    "    \n",
    "    return a,b,c\n",
    "num = test()\n",
    "print(num)"
   ]
  }
 ],
 "metadata": {
  "kernelspec": {
   "display_name": "Python 3",
   "language": "python",
   "name": "python3"
  },
  "language_info": {
   "codemirror_mode": {
    "name": "ipython",
    "version": 3
   },
   "file_extension": ".py",
   "mimetype": "text/x-python",
   "name": "python",
   "nbconvert_exporter": "python",
   "pygments_lexer": "ipython3",
   "version": "3.5.2"
  }
 },
 "nbformat": 4,
 "nbformat_minor": 2
}
