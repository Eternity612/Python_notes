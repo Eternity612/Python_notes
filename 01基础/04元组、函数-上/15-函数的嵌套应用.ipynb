{
 "cells": [
  {
   "cell_type": "code",
   "execution_count": null,
   "metadata": {},
   "outputs": [],
   "source": [
    "def sum_3_nums(a,b,c):              #形参\n",
    "    result = a+b+c\n",
    "    return result\n",
    "\n",
    "def average_3_nums(a1,b1,c1):       #形参（接收的时候）\n",
    "    result = sum_3_nums(a1,b1,c1)   #实参\n",
    "    result = result/3 #result/=3\n",
    "    print(\"平均值是：%d\"%result)\n",
    "\n",
    "#获取三个值\n",
    "num1 = int(input(\"第一个值：\"))\n",
    "num2 = int(input(\"第二个值：\"))\n",
    "num3 = int(input(\"第三个值：\"))\n",
    "\n",
    "average_3_nums(num1,num2,num3)   #实参(传的时候)"
   ]
  }
 ],
 "metadata": {
  "kernelspec": {
   "display_name": "Python 3",
   "language": "python",
   "name": "python3"
  },
  "language_info": {
   "codemirror_mode": {
    "name": "ipython",
    "version": 3
   },
   "file_extension": ".py",
   "mimetype": "text/x-python",
   "name": "python",
   "nbconvert_exporter": "python",
   "pygments_lexer": "ipython3",
   "version": "3.5.2"
  }
 },
 "nbformat": 4,
 "nbformat_minor": 2
}
