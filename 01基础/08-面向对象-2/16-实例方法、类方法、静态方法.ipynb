{
 "cells": [
  {
   "cell_type": "code",
   "execution_count": 1,
   "metadata": {},
   "outputs": [
    {
     "name": "stdout",
     "output_type": "stream",
     "text": [
      "100\n",
      "----------------------\n",
      "    穿越火线V11.1\n",
      " 1. 开始游戏\n",
      " 2. 结束游戏\n",
      "----------------------\n"
     ]
    }
   ],
   "source": [
    "class Game(object):\n",
    "\n",
    "    #类属性\n",
    "    num = 0\n",
    "\n",
    "    #实例方法\n",
    "    def __init__(self):\n",
    "        #实例属性\n",
    "        self.name = \"laowang\"\n",
    "\n",
    "    #类方法\n",
    "    @classmethod\n",
    "    def add_num(cls):\n",
    "        cls.num = 100\n",
    "\n",
    "    #静态方法\n",
    "    @staticmethod\n",
    "    def print_menu():\n",
    "        print(\"----------------------\")\n",
    "        print(\"    穿越火线V11.1\")\n",
    "        print(\" 1. 开始游戏\")\n",
    "        print(\" 2. 结束游戏\")\n",
    "        print(\"----------------------\")\n",
    "\n",
    "game = Game()\n",
    "#Game.add_num()#可以通过类的名字调用类方法\n",
    "game.add_num()#还可以通过这个类创建出来的对象 去调用这个类方法\n",
    "print(Game.num)\n",
    "\n",
    "#Game.print_menu()#通过类 去调用静态方法\n",
    "game.print_menu()#通过实例对象 去调用静态方法"
   ]
  }
 ],
 "metadata": {
  "kernelspec": {
   "display_name": "Python 3",
   "language": "python",
   "name": "python3"
  },
  "language_info": {
   "codemirror_mode": {
    "name": "ipython",
    "version": 3
   },
   "file_extension": ".py",
   "mimetype": "text/x-python",
   "name": "python",
   "nbconvert_exporter": "python",
   "pygments_lexer": "ipython3",
   "version": "3.5.2"
  }
 },
 "nbformat": 4,
 "nbformat_minor": 2
}
