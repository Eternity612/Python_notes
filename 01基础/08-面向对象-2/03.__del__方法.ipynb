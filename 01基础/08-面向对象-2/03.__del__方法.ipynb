{
 "cells": [
  {
   "cell_type": "code",
   "execution_count": 1,
   "metadata": {},
   "outputs": [
    {
     "name": "stdout",
     "output_type": "stream",
     "text": [
      "- - - - - - - - -\n",
      "= = = = = = = \n"
     ]
    }
   ],
   "source": [
    "class Dog:\n",
    "    def __del__(self):\n",
    "        print(\"- - - - - - - - -\")\n",
    "        \n",
    "dog1 = Dog()\n",
    "dog2 = dog1\n",
    "\n",
    "del dog1\n",
    "del dog2\n",
    "print(\"= = = = = = = \")"
   ]
  },
  {
   "cell_type": "code",
   "execution_count": 2,
   "metadata": {},
   "outputs": [],
   "source": [
    "# 如果程序结束之前，把所有的引用对象删了，即引用计数为 0 ，则在最后一次删除引用对象时，自动调用 __del__方法\n",
    "# 如果程序结束之前，没有把所有的引用删除完，则在程序结束时，自动调用__del__方法"
   ]
  }
 ],
 "metadata": {
  "kernelspec": {
   "display_name": "Python 3",
   "language": "python",
   "name": "python3"
  },
  "language_info": {
   "codemirror_mode": {
    "name": "ipython",
    "version": 3
   },
   "file_extension": ".py",
   "mimetype": "text/x-python",
   "name": "python",
   "nbconvert_exporter": "python",
   "pygments_lexer": "ipython3",
   "version": "3.5.2"
  }
 },
 "nbformat": 4,
 "nbformat_minor": 2
}
