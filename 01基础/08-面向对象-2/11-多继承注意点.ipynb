{
 "cells": [
  {
   "cell_type": "code",
   "execution_count": 1,
   "metadata": {},
   "outputs": [
    {
     "name": "stdout",
     "output_type": "stream",
     "text": [
      "-----A\n",
      "(<class '__main__.C'>, <class '__main__.A'>, <class '__main__.B'>, <class '__main__.Base'>, <class 'object'>)\n"
     ]
    }
   ],
   "source": [
    "class Base(object):\n",
    "    def test(self):\n",
    "        print(\"----Base\")\n",
    "\n",
    "class A(Base):\n",
    "    def test(self):\n",
    "        print(\"-----A\")\n",
    "\n",
    "class B(Base):\n",
    "    def test(self):\n",
    "        print(\"-----B\")\n",
    "\n",
    "class C(A,B):\n",
    "    pass\n",
    "    #def test(self):\n",
    "    #    print(\"-----C\")\n",
    "\n",
    "\n",
    "c = C()\n",
    "c.test()\n",
    "\n",
    "print(C.__mro__)"
   ]
  },
  {
   "cell_type": "code",
   "execution_count": null,
   "metadata": {},
   "outputs": [],
   "source": [
    "#   类名.__mro__   Python语言包含了很多优秀的特性，其中多重继承就是其中之一，但是多重继承会引发很多问题，比如二义性   __mro__打印类方法\n",
    "#   的遍历顺序"
   ]
  }
 ],
 "metadata": {
  "kernelspec": {
   "display_name": "Python 3",
   "language": "python",
   "name": "python3"
  },
  "language_info": {
   "codemirror_mode": {
    "name": "ipython",
    "version": 3
   },
   "file_extension": ".py",
   "mimetype": "text/x-python",
   "name": "python",
   "nbconvert_exporter": "python",
   "pygments_lexer": "ipython3",
   "version": "3.5.2"
  }
 },
 "nbformat": 4,
 "nbformat_minor": 2
}
