{
 "cells": [
  {
   "cell_type": "code",
   "execution_count": 2,
   "metadata": {},
   "outputs": [
    {
     "name": "stdout",
     "output_type": "stream",
     "text": [
      "3\n"
     ]
    }
   ],
   "source": [
    "class Tool(object):\n",
    "\n",
    "    #类属性\n",
    "    num = 0\n",
    "\n",
    "    #方法\n",
    "    def __init__(self,new_name):\n",
    "        # 实例属性\n",
    "        self.name = new_name\n",
    "        # 对类属性 + =1\n",
    "        Tool.num += 1\n",
    "\n",
    "tool1 = Tool(\"铁锹\")\n",
    "tool2 = Tool(\"铲子\")\n",
    "tool3 = Tool(\"水桶\")\n",
    "print(Tool.num)"
   ]
  },
  {
   "cell_type": "code",
   "execution_count": null,
   "metadata": {},
   "outputs": [],
   "source": []
  },
  {
   "cell_type": "code",
   "execution_count": null,
   "metadata": {},
   "outputs": [],
   "source": [
    "#  实例属性：和具体的某个实例对象有关系\n",
    "#  并且一个实例对象和另一个实例对象是不共享属性的\n",
    "#  类属性：类属性所属于类对象\n",
    "#  并且 多个实例对象之间共享同一个 类属性"
   ]
  }
 ],
 "metadata": {
  "kernelspec": {
   "display_name": "Python 3",
   "language": "python",
   "name": "python3"
  },
  "language_info": {
   "codemirror_mode": {
    "name": "ipython",
    "version": 3
   },
   "file_extension": ".py",
   "mimetype": "text/x-python",
   "name": "python",
   "nbconvert_exporter": "python",
   "pygments_lexer": "ipython3",
   "version": "3.5.2"
  }
 },
 "nbformat": 4,
 "nbformat_minor": 2
}
