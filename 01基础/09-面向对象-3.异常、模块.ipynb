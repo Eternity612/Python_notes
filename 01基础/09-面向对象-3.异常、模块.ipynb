{
 "cells": [
  {
   "cell_type": "markdown",
   "metadata": {},
   "source": [
    "### 设计4s店类"
   ]
  },
  {
   "cell_type": "code",
   "execution_count": null,
   "metadata": {},
   "outputs": [],
   "source": [
    "class CatStore(object):\n",
    "    \n",
    "    def order(self,car_type):\n",
    "        if car_type == \"索纳塔\":\n",
    "            return Suonata()\n",
    "        elif car_type == \"名图\":\n",
    "            return Mingtu()\n",
    "        elif car_type == \"ix35\":\n",
    "            return Ix35()\n",
    "\n",
    "class Car(object):\n",
    "    \n",
    "    def move(self):\n",
    "        print(\"车在移动……\")\n",
    "\n",
    "    def music(self):\n",
    "        print(\"正在播放音乐……\")\n",
    "\n",
    "    def stop(self):\n",
    "        print(\"车在停止……\")\n",
    "\n",
    "class Suonata(Car):\n",
    "    pass\n",
    "\n",
    "class Mingtu(Car):\n",
    "    pass\n",
    "\n",
    "class Ix35(Car):\n",
    "    pass\n",
    "\n",
    "\n",
    "car_store = CatStore()\n",
    "car = car_store.order(\"索纳塔\")\n",
    "car.move()\n",
    "car.music()\n",
    "car.stop()"
   ]
  },
  {
   "cell_type": "markdown",
   "metadata": {},
   "source": [
    "### 设计4s店类--使用函数完成解耦\n",
    "（CatStore()类里的代码与车型有紧密的联系，解耦就是把联系拆开）"
   ]
  },
  {
   "cell_type": "markdown",
   "metadata": {},
   "source": [
    "不更改类本身，通过更改函数"
   ]
  },
  {
   "cell_type": "code",
   "execution_count": 41,
   "metadata": {},
   "outputs": [
    {
     "name": "stdout",
     "output_type": "stream",
     "text": [
      "车在移动……\n",
      "正在播放音乐……\n",
      "车在停止……\n"
     ]
    }
   ],
   "source": [
    "class CatStore(object):\n",
    "    \n",
    "    def order(self,car_type):\n",
    "        return select_car_by_type(car_type)\n",
    "#使用函数解耦       \n",
    "def select_car_by_type(car_type):\n",
    "        if car_type == \"索纳塔\":\n",
    "            return Suonata()\n",
    "        elif car_type == \"名图\":\n",
    "            return Mingtu()\n",
    "        elif car_type == \"ix35\":\n",
    "            return Ix35()\n",
    "        \n",
    "class Car(object):\n",
    "    \n",
    "    def move(self):\n",
    "        print(\"车在移动……\")\n",
    "\n",
    "    def music(self):\n",
    "        print(\"正在播放音乐……\")\n",
    "\n",
    "    def stop(self):\n",
    "        print(\"车在停止……\")\n",
    "\n",
    "class Suonata(Car):\n",
    "    pass\n",
    "\n",
    "class Mingtu(Car):\n",
    "    pass\n",
    "\n",
    "class Ix35(Car):\n",
    "    pass\n",
    "\n",
    "\n",
    "car_store = CatStore()\n",
    "car = car_store.order(\"索纳塔\")\n",
    "car.move()\n",
    "car.music()\n",
    "car.stop()"
   ]
  },
  {
   "cell_type": "markdown",
   "metadata": {},
   "source": [
    "### 设计4s店类--使用类完成解耦--简单工厂模式"
   ]
  },
  {
   "cell_type": "code",
   "execution_count": 5,
   "metadata": {},
   "outputs": [
    {
     "name": "stdout",
     "output_type": "stream",
     "text": [
      "车在移动……\n",
      "正在播放音乐……\n",
      "车在停止……\n"
     ]
    }
   ],
   "source": [
    "class CatStore(object):\n",
    "    \n",
    "    def __init__(self):\n",
    "        self.factory = Factory()\n",
    "    \n",
    "    def order(self,car_type):\n",
    "        return self.factory.select_car_by_type(car_type)\n",
    "\n",
    "class Factory(object):\n",
    "    def select_car_by_type(self,car_type):\n",
    "            if car_type == \"索纳塔\":\n",
    "                return Suonata()\n",
    "            elif car_type == \"名图\":\n",
    "                return Mingtu()\n",
    "            elif car_type == \"ix35\":\n",
    "                return Ix35()\n",
    "        \n",
    "class Car(object):\n",
    "    \n",
    "    def move(self):\n",
    "        print(\"车在移动……\")\n",
    "\n",
    "    def music(self):\n",
    "        print(\"正在播放音乐……\")\n",
    "\n",
    "    def stop(self):\n",
    "        print(\"车在停止……\")\n",
    "\n",
    "class Suonata(Car):\n",
    "    pass\n",
    "\n",
    "class Mingtu(Car):\n",
    "    pass\n",
    "\n",
    "class Ix35(Car):\n",
    "    pass\n",
    "\n",
    "\n",
    "car_store = CatStore()\n",
    "car = car_store.order(\"索纳塔\")\n",
    "car.move()\n",
    "car.music()\n",
    "car.stop()"
   ]
  },
  {
   "cell_type": "markdown",
   "metadata": {},
   "source": [
    "### 设计4s店类--工厂方法模式"
   ]
  },
  {
   "cell_type": "markdown",
   "metadata": {},
   "source": [
    "基类仅仅负责搭一个框架（流程），子类里实现功能"
   ]
  },
  {
   "cell_type": "code",
   "execution_count": null,
   "metadata": {},
   "outputs": [],
   "source": [
    "class Store(object):\n",
    "    def select_car(self):\n",
    "        pass\n",
    "    \n",
    "    def order(self,car_type):\n",
    "        return self.select_car(car_type)\n",
    "\n",
    "class BMWCarStore(Store):\n",
    "    def select_car(self,car_type):\n",
    "        return BMWFactory().select_car_by_type(car_type)\n",
    "    \n",
    "class BMWFactory(object):\n",
    "    def select_car_by_type(self,car_type):\n",
    "        pass\n",
    "#         if car_type == \"mini\":\n",
    "#             return Suonata()\n",
    "#         if car_type == \"720Li\":\n",
    "#             return Mingtu()\n",
    "#         elif car_type == \"x6\":\n",
    "#             return Ix35()    \n",
    "    \n",
    "bmw_store = BMWCarStore()\n",
    "bmw_store.order(\"720Li\")\n",
    "\n",
    "    \n",
    "class CarStory(Store):\n",
    "    def select_car(self,car_type):\n",
    "        return Factory.select_car_by_type(car_type)\n",
    "\n",
    "class Factory(object):\n",
    "    def select_car_by_type(self,car_type):\n",
    "            if car_type == \"索纳塔\":\n",
    "                return Suonata()\n",
    "            elif car_type == \"名图\":\n",
    "                return Mingtu()\n",
    "            elif car_type == \"ix35\":\n",
    "                return Ix35()\n",
    "        \n",
    "class Car(object):\n",
    "    \n",
    "    def move(self):\n",
    "        print(\"车在移动……\")\n",
    "\n",
    "    def music(self):\n",
    "        print(\"正在播放音乐……\")\n",
    "\n",
    "    def stop(self):\n",
    "        print(\"车在停止……\")\n",
    "\n",
    "class Suonata(Car):\n",
    "    pass\n",
    "\n",
    "class Mingtu(Car):\n",
    "    pass\n",
    "\n",
    "class Ix35(Car):\n",
    "    pass\n",
    "\n",
    "\n",
    "car_store = CatStore()\n",
    "car = car_store.order(\"索纳塔\")\n",
    "car.move()\n",
    "car.music()\n",
    "car.stop()"
   ]
  },
  {
   "cell_type": "markdown",
   "metadata": {},
   "source": [
    "### \\__new\\__方法 "
   ]
  },
  {
   "cell_type": "code",
   "execution_count": 13,
   "metadata": {},
   "outputs": [
    {
     "name": "stdout",
     "output_type": "stream",
     "text": [
      "这是__new__方法\n",
      "这是__init__方法\n"
     ]
    },
    {
     "data": {
      "text/plain": [
       "<__main__.A at 0x246da8bcda0>"
      ]
     },
     "execution_count": 13,
     "metadata": {},
     "output_type": "execute_result"
    }
   ],
   "source": [
    "class A(object):\n",
    "    def __init__(self):\n",
    "        print(\"这是__init__方法\")\n",
    "    \n",
    "    def __new__(cls):\n",
    "        print(\"这是__new__方法\")\n",
    "        return object.__new__(cls)\n",
    "A()"
   ]
  },
  {
   "cell_type": "code",
   "execution_count": null,
   "metadata": {},
   "outputs": [],
   "source": [
    "总结：\n",
    "1.__new__至少有一个参数cls,代表要实例化的类，此参数在实例化时由Python解释器自动提供\n",
    "2.__new__必须要有返回值，返回实例化出来的实例，这点在自己实现__new__时要特别注意，可以return父类__new__\n",
    "    出来的实例，或者直\n",
    "    接是object __new__出来的实例\n",
    "3.__init__有一个参数self，就是这个__new__返回的实例，__init__在__new__的基础上可以完成一些其他的初始化\n",
    "    动作，__init__不需要返回值\n",
    "4.我们可以把类比作制造商，__new__方法就是前期的原材料购买环节，__init__就是在有原材料的基础上，价格，\n",
    "    初始化环节"
   ]
  },
  {
   "cell_type": "code",
   "execution_count": 15,
   "metadata": {},
   "outputs": [
    {
     "name": "stdout",
     "output_type": "stream",
     "text": [
      "- - -new方法- - -\n",
      "- - -init方法- - -\n"
     ]
    }
   ],
   "source": [
    "class Dog(object):\n",
    "    def __init__(self):\n",
    "        print(\"- - -init方法- - -\")\n",
    "        pass\n",
    "    \n",
    "    def __del__(self):\n",
    "        print(\"- - -del方法- - -\")\n",
    "        pass\n",
    "    \n",
    "    def __str__(self):\n",
    "        print(\"- - -str方法- - -\")\n",
    "        return \"对象的描述信息\"\n",
    "    \n",
    "    def __new__(cls): #cls此时是Dog指向的那个类对象\n",
    "        print(\"- - -new方法- - -\")\n",
    "        return object.__new__(cls) #重写了__new__方法，就必须得调用父类的new方法\n",
    "    \n",
    "xtq = Dog() \n",
    "#1.调用__new__方法来创建对象,然后找了一个变量来接收__new__的返回值，这个返回值表示创建出来的对象的引用\n",
    "#2.__init__(刚创建出来的对象的引用)\n",
    "#3.返回对象的引用"
   ]
  },
  {
   "cell_type": "markdown",
   "metadata": {},
   "source": [
    "### 创建单例对象"
   ]
  },
  {
   "cell_type": "markdown",
   "metadata": {},
   "source": [
    "不管创建多少次，只有一个对象"
   ]
  },
  {
   "cell_type": "code",
   "execution_count": 17,
   "metadata": {},
   "outputs": [
    {
     "name": "stdout",
     "output_type": "stream",
     "text": [
      "2503337581424\n",
      "2503337581424\n"
     ]
    }
   ],
   "source": [
    "class Dog(object):\n",
    "    \n",
    "    __instance = None #为了不让在外面通过类名获取这个属性，定义为私有类属性\n",
    "    \n",
    "    def __new__(cls):\n",
    "        if cls.__instance == None:\n",
    "            cls.__instance = object.__new__(cls)\n",
    "            return cls.__instance\n",
    "        else:\n",
    "            #return 上一次创建对象的引用\n",
    "            return cls.__instance\n",
    "                \n",
    "\n",
    "a = Dog()\n",
    "print(id(a))\n",
    "b = Dog()\n",
    "print(id(b))"
   ]
  },
  {
   "cell_type": "markdown",
   "metadata": {},
   "source": [
    "### 只初始化一次对象"
   ]
  },
  {
   "cell_type": "code",
   "execution_count": 22,
   "metadata": {},
   "outputs": [
    {
     "name": "stdout",
     "output_type": "stream",
     "text": [
      "2503337700768\n",
      "旺财\n",
      "2503337700768\n",
      "哮天犬\n"
     ]
    }
   ],
   "source": [
    "#初始化两次对象\n",
    "class Dog(object):\n",
    "    \n",
    "    __instance = None \n",
    "    \n",
    "    def __new__(cls,name):  #Dog()先调__new__方法，cls指向对象，此处不加形参，Dog(\"旺财\")传不进来\n",
    "        if cls.__instance == None:\n",
    "            cls.__instance = object.__new__(cls)\n",
    "            return cls.__instance\n",
    "        else:\n",
    "            #return 上一次创建对象的引用\n",
    "            return cls.__instance\n",
    "    \n",
    "    def __init__(self,name):\n",
    "        self.name = name\n",
    "                \n",
    "a = Dog(\"旺财\")\n",
    "print(id(a))\n",
    "print(a.name)\n",
    "b = Dog(\"哮天犬\")\n",
    "print(id(b))\n",
    "print(b.name)"
   ]
  },
  {
   "cell_type": "code",
   "execution_count": 24,
   "metadata": {},
   "outputs": [
    {
     "name": "stdout",
     "output_type": "stream",
     "text": [
      "2503337702792\n",
      "旺财\n",
      "2503337702792\n",
      "旺财\n"
     ]
    }
   ],
   "source": [
    "#初始化一次对象\n",
    "class Dog(object):\n",
    "    \n",
    "    __instance = None\n",
    "    __init_flag = False\n",
    "    \n",
    "    def __new__(cls,name):  #Dog()先调__new__方法，cls指向对象，此处不加形参，Dog(\"旺财\")传不进来\n",
    "        if cls.__instance == None:\n",
    "            cls.__instance = object.__new__(cls)\n",
    "            return cls.__instance\n",
    "        else:\n",
    "            #return 上一次创建对象的引用\n",
    "            return cls.__instance\n",
    "    \n",
    "    def __init__(self,name):\n",
    "        #加一个私有类属性作为标志位\n",
    "        if self.__init_flag == False:\n",
    "            self.name = name\n",
    "            Dog.__init_flag = True\n",
    "                \n",
    "a = Dog(\"旺财\")\n",
    "print(id(a))\n",
    "print(a.name)\n",
    "b = Dog(\"哮天犬\")\n",
    "print(id(b))\n",
    "print(b.name)"
   ]
  },
  {
   "cell_type": "markdown",
   "metadata": {},
   "source": [
    "### 异常--基本功能"
   ]
  },
  {
   "cell_type": "code",
   "execution_count": 28,
   "metadata": {
    "scrolled": true
   },
   "outputs": [
    {
     "name": "stdout",
     "output_type": "stream",
     "text": [
      "-----1-----\n",
      "没有异常才会执行的功能\n",
      "----2----\n"
     ]
    }
   ],
   "source": [
    "try:\n",
    "    #11/0\n",
    "    #open(\"xxx.txt\")\n",
    "    print(\"-----1-----\")\n",
    "    \n",
    "except (NameError,FileNotFoundError): #Python3用元组来捕捉指定的多个异常\n",
    "    print(\"如果捕获到异常后做的处理...\")\n",
    "except Exception as ret:\n",
    "    print(\"如果用Exception，那么意味着只要上面的exception没有捕获到异常，这个except一定会捕捉到\")\n",
    "    print(ret)\n",
    "else:\n",
    "    print(\"没有异常才会执行的功能\")\n",
    "finally:  #有无异常都会执行，比如判断一个文件异常不管有无异常最后都加finally使其关闭文件\n",
    "    print(\"----finally----\")\n",
    "print(\"----2----\")"
   ]
  },
  {
   "cell_type": "markdown",
   "metadata": {},
   "source": [
    "### 异常的传递"
   ]
  },
  {
   "cell_type": "code",
   "execution_count": 30,
   "metadata": {},
   "outputs": [
    {
     "name": "stdout",
     "output_type": "stream",
     "text": [
      "- - -test3-1- - -\n",
      "- - -test1-1- - -\n",
      "捕获到了异常，信息是：name 'num' is not defined\n",
      "- - -test3-2- - -\n",
      "- - -华丽的分割线- - -\n"
     ]
    }
   ],
   "source": [
    "def test1():\n",
    "    print(\"- - -test1-1- - -\")\n",
    "    print(num)\n",
    "    print(\"- - -test1-2- - - \")\n",
    "    \n",
    "def test2():\n",
    "    print(\"- - -test2-1- - - \")\n",
    "    test1()\n",
    "    print(\"- - -test2-2- - -\")\n",
    "    \n",
    "def test3():\n",
    "    try:\n",
    "        print(\"- - -test3-1- - -\")\n",
    "        test1()                     #传递异常，不会报错\n",
    "        print(\"- - -test3-2- - -\")\n",
    "    except Exception as result:\n",
    "        print(\"捕获到了异常，信息是：%s\" % result)\n",
    "        \n",
    "    print(\"- - -test3-2- - -\")\n",
    "    \n",
    "test3()\n",
    "print(\"- - -华丽的分割线- - -\")\n",
    "#test2()"
   ]
  },
  {
   "cell_type": "markdown",
   "metadata": {},
   "source": [
    "### 抛出自定义异常"
   ]
  },
  {
   "cell_type": "code",
   "execution_count": 34,
   "metadata": {},
   "outputs": [
    {
     "name": "stdout",
     "output_type": "stream",
     "text": [
      "请输入：12\n",
      "ShortInputException:输入的长度是 2,长度至少应该是 3\n"
     ]
    }
   ],
   "source": [
    "class ShortInputException(Exception):  #Exception是所有异常的基类，继承他可以捕获到异常\n",
    "    \"\"\"自定义的异常类\"\"\"\n",
    "    def __init__(self,length,atleast):\n",
    "        self.length = length\n",
    "        self.atleast = atleast\n",
    "        \n",
    "def main():\n",
    "    try:\n",
    "        s = input(\"请输入：\")\n",
    "        if len(s) < 3:\n",
    "            # raise引发一个你定义的异常\n",
    "            raise ShortInputException(len(s),3)\n",
    "    except ShortInputException as result:\n",
    "        print(\"ShortInputException:输入的长度是 %d,长度至少应该是 %d\" %(result.length,result.atleast))\n",
    "    else:\n",
    "        print(\"没有发生异常.\")\n",
    "            \n",
    "main()"
   ]
  },
  {
   "cell_type": "markdown",
   "metadata": {},
   "source": [
    "### 异常处理中抛出异常"
   ]
  },
  {
   "cell_type": "code",
   "execution_count": 36,
   "metadata": {},
   "outputs": [
    {
     "name": "stdout",
     "output_type": "stream",
     "text": [
      "捕获开启，已经捕获到了异常，信息如下：\n",
      "division by zero\n",
      "- - - - - - 华丽的分割线 - - - - - - \n"
     ]
    },
    {
     "ename": "ZeroDivisionError",
     "evalue": "division by zero",
     "output_type": "error",
     "traceback": [
      "\u001b[1;31m---------------------------------------------------------------------------\u001b[0m",
      "\u001b[1;31mZeroDivisionError\u001b[0m                         Traceback (most recent call last)",
      "\u001b[1;32m<ipython-input-36-1c1cb5000ae5>\u001b[0m in \u001b[0;36m<module>\u001b[1;34m()\u001b[0m\n\u001b[0;32m     19\u001b[0m \u001b[0mprint\u001b[0m\u001b[1;33m(\u001b[0m\u001b[1;34m\"- - - - - - 华丽的分割线 - - - - - - \"\u001b[0m\u001b[1;33m)\u001b[0m\u001b[1;33m\u001b[0m\u001b[0m\n\u001b[0;32m     20\u001b[0m \u001b[0ma\u001b[0m\u001b[1;33m.\u001b[0m\u001b[0mswitch\u001b[0m \u001b[1;33m=\u001b[0m \u001b[1;32mFalse\u001b[0m\u001b[1;33m\u001b[0m\u001b[0m\n\u001b[1;32m---> 21\u001b[1;33m \u001b[0ma\u001b[0m\u001b[1;33m.\u001b[0m\u001b[0mcalc\u001b[0m\u001b[1;33m(\u001b[0m\u001b[1;36m11\u001b[0m\u001b[1;33m,\u001b[0m\u001b[1;36m0\u001b[0m\u001b[1;33m)\u001b[0m\u001b[1;33m\u001b[0m\u001b[0m\n\u001b[0m",
      "\u001b[1;32m<ipython-input-36-1c1cb5000ae5>\u001b[0m in \u001b[0;36mcalc\u001b[1;34m(self, a, b)\u001b[0m\n\u001b[0;32m      5\u001b[0m        \u001b[1;32mdef\u001b[0m \u001b[0mcalc\u001b[0m\u001b[1;33m(\u001b[0m\u001b[0mself\u001b[0m\u001b[1;33m,\u001b[0m\u001b[0ma\u001b[0m\u001b[1;33m,\u001b[0m\u001b[0mb\u001b[0m\u001b[1;33m)\u001b[0m\u001b[1;33m:\u001b[0m\u001b[1;33m\u001b[0m\u001b[0m\n\u001b[0;32m      6\u001b[0m            \u001b[1;32mtry\u001b[0m\u001b[1;33m:\u001b[0m\u001b[1;33m\u001b[0m\u001b[0m\n\u001b[1;32m----> 7\u001b[1;33m                \u001b[1;32mreturn\u001b[0m \u001b[0ma\u001b[0m\u001b[1;33m/\u001b[0m\u001b[0mb\u001b[0m\u001b[1;33m\u001b[0m\u001b[0m\n\u001b[0m\u001b[0;32m      8\u001b[0m            \u001b[1;32mexcept\u001b[0m \u001b[0mException\u001b[0m \u001b[1;32mas\u001b[0m \u001b[0mresult\u001b[0m\u001b[1;33m:\u001b[0m\u001b[1;33m\u001b[0m\u001b[0m\n\u001b[0;32m      9\u001b[0m                \u001b[1;32mif\u001b[0m \u001b[0mself\u001b[0m\u001b[1;33m.\u001b[0m\u001b[0mswitch\u001b[0m\u001b[1;33m:\u001b[0m\u001b[1;33m\u001b[0m\u001b[0m\n",
      "\u001b[1;31mZeroDivisionError\u001b[0m: division by zero"
     ]
    }
   ],
   "source": [
    " class Test(object):\n",
    "        def __init__(self,switch):\n",
    "            self.switch = switch\n",
    "            \n",
    "        def calc(self,a,b):\n",
    "            try:\n",
    "                return a/b\n",
    "            except Exception as result:\n",
    "                if self.switch:\n",
    "                    print(\"捕获开启，已经捕获到了异常，信息如下：\")\n",
    "                    print(result)\n",
    "                else:\n",
    "                    #重新抛出这个异常，此时就不会被这个异常处理后捕捉到，从而触发默认的异常处理\n",
    "                    raise\n",
    "                    \n",
    "a = Test(True)\n",
    "a.calc(11,0)\n",
    "\n",
    "print(\"- - - - - - 华丽的分割线 - - - - - - \")\n",
    "a.switch = False\n",
    "a.calc(11,0)"
   ]
  },
  {
   "cell_type": "markdown",
   "metadata": {},
   "source": [
    "### if的各种判断"
   ]
  },
  {
   "cell_type": "code",
   "execution_count": null,
   "metadata": {},
   "outputs": [],
   "source": [
    "if xxx == yyy:   #看条件s是否成立\n",
    "if xxx:          #看结果是 真 还是假\n",
    "\n",
    "#条件为假\n",
    "if False:\n",
    "if \"\":\n",
    "if None:\n",
    "if 0:\n",
    "if []:\n",
    "if {}:"
   ]
  },
  {
   "cell_type": "markdown",
   "metadata": {},
   "source": [
    "### 模块的介绍"
   ]
  },
  {
   "cell_type": "code",
   "execution_count": 38,
   "metadata": {},
   "outputs": [
    {
     "data": {
      "text/plain": [
       "'f:\\\\python35\\\\lib\\\\os.py'"
      ]
     },
     "execution_count": 38,
     "metadata": {},
     "output_type": "execute_result"
    }
   ],
   "source": [
    "import os\n",
    "\n",
    "os.__file__"
   ]
  },
  {
   "cell_type": "code",
   "execution_count": null,
   "metadata": {},
   "outputs": [],
   "source": [
    "from A import *\n",
    "from B import *\n",
    "# 如果A、B中存在方法名相同的方法test()， 则这样导入模块后 test()表示的是B中的方法\n",
    "\n",
    "# 而用以下方法导入模块不会出现这种情况\n",
    "import A,B\n",
    "\n",
    "A.test()\n",
    "B.test()\n"
   ]
  },
  {
   "cell_type": "markdown",
   "metadata": {},
   "source": [
    "<b>导入模块的时候，相当于把模块从头到尾执行了一遍</b>"
   ]
  },
  {
   "cell_type": "code",
   "execution_count": 40,
   "metadata": {},
   "outputs": [
    {
     "name": "stdout",
     "output_type": "stream",
     "text": [
      "__main__\n",
      "- - -test11- - -\n",
      "- - -test22- - -\n"
     ]
    }
   ],
   "source": [
    "def test11():\n",
    "    print(\"- - -test11- - -\")\n",
    "\n",
    "def test22():\n",
    "    print(\"- - -test22- - -\")\n",
    "\n",
    "print(__name__) # 模块自己执行时，打印的__name__ 就是 __main__\n",
    "                # 模块被调用时，打印的__name__ 是模块名\n",
    "\n",
    "if __name__ == \"__main__\":\n",
    "    test11()\n",
    "    test22()"
   ]
  }
 ],
 "metadata": {
  "kernelspec": {
   "display_name": "Python 3",
   "language": "python",
   "name": "python3"
  },
  "language_info": {
   "codemirror_mode": {
    "name": "ipython",
    "version": 3
   },
   "file_extension": ".py",
   "mimetype": "text/x-python",
   "name": "python",
   "nbconvert_exporter": "python",
   "pygments_lexer": "ipython3",
   "version": "3.5.2"
  }
 },
 "nbformat": 4,
 "nbformat_minor": 2
}
