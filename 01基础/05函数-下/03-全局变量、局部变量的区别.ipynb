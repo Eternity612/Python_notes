{
 "cells": [
  {
   "cell_type": "code",
   "execution_count": null,
   "metadata": {},
   "outputs": [],
   "source": [
    "# 定义一个全局变量\n",
    "wendu=0\n",
    "\n",
    "def get_wendu():\n",
    "#     如果wendu这个变量已经在全局变量的位置定义了，此时还想在函数中对这个全局变量进行修改的话，那么仅仅是\n",
    "#     wendu = 一个值还不够，，此时wendu这个变量是一个局部变量，仅仅是和全局变量的名字相同罢了\n",
    "#     wendu = 33\n",
    "    \n",
    "    #使用global用来对一个全局变量的声明 ,那么这个函数中的wendu=33就不是定义一个局部变量，而是对全局变量进行的修改\n",
    "    global wendu\n",
    "    wendu = 33\n",
    "    \n",
    "def print_wendu():\n",
    "    print(\"温度是%d\"% wendu )"
   ]
  }
 ],
 "metadata": {
  "kernelspec": {
   "display_name": "Python 3",
   "language": "python",
   "name": "python3"
  },
  "language_info": {
   "codemirror_mode": {
    "name": "ipython",
    "version": 3
   },
   "file_extension": ".py",
   "mimetype": "text/x-python",
   "name": "python",
   "nbconvert_exporter": "python",
   "pygments_lexer": "ipython3",
   "version": "3.5.2"
  }
 },
 "nbformat": 4,
 "nbformat_minor": 2
}
