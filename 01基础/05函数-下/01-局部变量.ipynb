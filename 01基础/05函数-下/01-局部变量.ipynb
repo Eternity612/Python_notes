{
 "cells": [
  {
   "cell_type": "code",
   "execution_count": null,
   "metadata": {},
   "outputs": [],
   "source": [
    "# <1>什么是局部变量\n",
    "# 函数内部定义的变量\n",
    "# 不同的函数可以定义相同的名字的局部0变量，但是各用各的，不会产生影响\n",
    "#局部变量的作用，为了临时保存数据需要在函数中定义变量来进行存储，这就是他的作用"
   ]
  }
 ],
 "metadata": {
  "kernelspec": {
   "display_name": "Python 3",
   "language": "python",
   "name": "python3"
  },
  "language_info": {
   "codemirror_mode": {
    "name": "ipython",
    "version": 3
   },
   "file_extension": ".py",
   "mimetype": "text/x-python",
   "name": "python",
   "nbconvert_exporter": "python",
   "pygments_lexer": "ipython3",
   "version": "3.5.2"
  }
 },
 "nbformat": 4,
 "nbformat_minor": 2
}
