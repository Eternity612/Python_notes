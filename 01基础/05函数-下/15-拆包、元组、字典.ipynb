{
 "cells": [
  {
   "cell_type": "code",
   "execution_count": 1,
   "metadata": {},
   "outputs": [
    {
     "name": "stdout",
     "output_type": "stream",
     "text": [
      "11\n",
      "22\n",
      "((44, 55, 66), {'age': 18, 'name': 'laowang'})\n",
      "{}\n"
     ]
    }
   ],
   "source": [
    "def test(a,b,c=33,*args,**kwargs):\n",
    "    print(a)\n",
    "    print(b)\n",
    "    print(args)\n",
    "    print(kwargs)\n",
    "    \n",
    "A = (44,55,66)\n",
    "B = {\"name\":\"laowang\",\"age\":18}\n",
    "test(11,22,33,A,B)"
   ]
  },
  {
   "cell_type": "code",
   "execution_count": 2,
   "metadata": {},
   "outputs": [
    {
     "name": "stdout",
     "output_type": "stream",
     "text": [
      "11\n",
      "22\n",
      "(44, 55, 66)\n",
      "{'age': 18, 'name': 'laowang'}\n"
     ]
    }
   ],
   "source": [
    "def test(a,b,c=33,*args,**kwargs):\n",
    "    print(a)\n",
    "    print(b)\n",
    "    print(args)\n",
    "    print(kwargs)\n",
    "    \n",
    "A = (44,55,66)\n",
    "B = {\"name\":\"laowang\",\"age\":18}\n",
    "test(11,22,33,*A,**B)"
   ]
  },
  {
   "cell_type": "code",
   "execution_count": null,
   "metadata": {},
   "outputs": [],
   "source": [
    "#  test(11,22,33,44,*A,**B) 中，* A、**B表示拆包，把元组A拆成一个个元素，把字典B拆成一个个键值对\n",
    "#  如果A、B前不加 * ，表示把A、B当作普通值，扔给args\n",
    "#  实参中的  *  表示拆包， 形参中 * 表示用来保存特殊值的"
   ]
  }
 ],
 "metadata": {
  "kernelspec": {
   "display_name": "Python 3",
   "language": "python",
   "name": "python3"
  },
  "language_info": {
   "codemirror_mode": {
    "name": "ipython",
    "version": 3
   },
   "file_extension": ".py",
   "mimetype": "text/x-python",
   "name": "python",
   "nbconvert_exporter": "python",
   "pygments_lexer": "ipython3",
   "version": "3.5.2"
  }
 },
 "nbformat": 4,
 "nbformat_minor": 2
}
