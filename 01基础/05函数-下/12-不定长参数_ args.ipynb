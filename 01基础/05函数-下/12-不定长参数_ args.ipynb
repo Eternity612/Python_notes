{
 "cells": [
  {
   "cell_type": "code",
   "execution_count": 10,
   "metadata": {
    "scrolled": true
   },
   "outputs": [
    {
     "name": "stdout",
     "output_type": "stream",
     "text": [
      "- -- -- -- -- -- -- -- -- -- -\n",
      "11\n",
      "22\n",
      "(33, 44, 55, 66, 77)\n",
      "result=308\n",
      "- -- -- -- -- -- -- -- -- -- -\n",
      "11\n",
      "22\n",
      "()\n",
      "result=33\n"
     ]
    }
   ],
   "source": [
    "def test(a,b,*args):\n",
    "    # *args 用来将参数打包成tuple给函数体调用\n",
    "    # 当实参个数大于函数定义时形参的个数，那么剩下的实参将打包成tuple（作为args）给函数体调用\n",
    "    # *args 必须在形参列表的最后\n",
    "    print(\"- -\"*10)\n",
    "    print(a)\n",
    "    print(b)\n",
    "    print(args)\n",
    "    \n",
    "    result = a+b\n",
    "    for num in args:\n",
    "        result +=num\n",
    "    print(\"result=%d\"%result)\n",
    "    \n",
    "test(11,22,33,44,55,66,77)\n",
    "test(11,22)\n",
    "#test(11)   错误的"
   ]
  },
  {
   "cell_type": "code",
   "execution_count": 3,
   "metadata": {},
   "outputs": [
    {
     "name": "stdout",
     "output_type": "stream",
     "text": [
      "11\n",
      "22\n",
      "(33, 44)\n",
      "{'done': 90, 'task': 100} <class 'dict'>\n"
     ]
    }
   ],
   "source": [
    "#  **是形参中按照关键字传值把多余的传值以字典的方式呈现\n",
    "#  **kwargs 打包关键字参数(实参中存在，形参中不存在)成dict给函数体调用\n",
    "def function(a,b=1,*args,**kwargs):\n",
    "    print(a)\n",
    "    print(b)\n",
    "    print(args)\n",
    "    print( kwargs, type(kwargs))\n",
    "\n",
    "function(11,22,33,44,task=100,done=90)"
   ]
  },
  {
   "cell_type": "code",
   "execution_count": null,
   "metadata": {},
   "outputs": [],
   "source": []
  }
 ],
 "metadata": {
  "kernelspec": {
   "display_name": "Python 3",
   "language": "python",
   "name": "python3"
  },
  "language_info": {
   "codemirror_mode": {
    "name": "ipython",
    "version": 3
   },
   "file_extension": ".py",
   "mimetype": "text/x-python",
   "name": "python",
   "nbconvert_exporter": "python",
   "pygments_lexer": "ipython3",
   "version": "3.5.2"
  }
 },
 "nbformat": 4,
 "nbformat_minor": 2
}
