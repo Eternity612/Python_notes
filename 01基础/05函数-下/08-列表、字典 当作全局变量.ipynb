{
 "cells": [
  {
   "cell_type": "code",
   "execution_count": 3,
   "metadata": {},
   "outputs": [],
   "source": [
    "# 在函数中，没有创建新的列表、字典（创建局部变量），只是修改全局变量时，可以不需要 global声明"
   ]
  },
  {
   "cell_type": "code",
   "execution_count": 5,
   "metadata": {},
   "outputs": [
    {
     "name": "stdout",
     "output_type": "stream",
     "text": [
      "[11, 22, 33, 44]\n",
      "{'age': 18, 'name': 'laowang'}\n"
     ]
    }
   ],
   "source": [
    "nums = [11,22,33]\n",
    "info = {\"name\":\"laowang\"}\n",
    "def test1():\n",
    "    nums.append(44)\n",
    "    info[\"age\"] = 18\n",
    "    \n",
    "def test2():\n",
    "    print(nums)\n",
    "    print(info)\n",
    "test1()\n",
    "test2()"
   ]
  },
  {
   "cell_type": "code",
   "execution_count": 7,
   "metadata": {},
   "outputs": [],
   "source": [
    "# 当在函数中新建了同名的局部变量（列表、字典）时，修改全局变量需要先声明global"
   ]
  },
  {
   "cell_type": "code",
   "execution_count": 8,
   "metadata": {
    "scrolled": true
   },
   "outputs": [
    {
     "name": "stdout",
     "output_type": "stream",
     "text": [
      "[11, 22, 33]\n",
      "{'name': 'laowang'}\n"
     ]
    }
   ],
   "source": [
    "nums = [11,22,33]\n",
    "info = {\"name\":\"laowang\"}\n",
    "def test1():\n",
    "    nums = []\n",
    "    info = {}\n",
    "    nums.append(44)\n",
    "    info[\"age\"] = 18\n",
    "    \n",
    "def test2():\n",
    "    print(nums)\n",
    "    print(info)\n",
    "test1()\n",
    "test2()"
   ]
  }
 ],
 "metadata": {
  "kernelspec": {
   "display_name": "Python 3",
   "language": "python",
   "name": "python3"
  },
  "language_info": {
   "codemirror_mode": {
    "name": "ipython",
    "version": 3
   },
   "file_extension": ".py",
   "mimetype": "text/x-python",
   "name": "python",
   "nbconvert_exporter": "python",
   "pygments_lexer": "ipython3",
   "version": "3.5.2"
  }
 },
 "nbformat": 4,
 "nbformat_minor": 2
}
