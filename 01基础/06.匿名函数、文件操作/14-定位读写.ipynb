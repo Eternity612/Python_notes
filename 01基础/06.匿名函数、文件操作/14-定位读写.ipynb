{
 "cells": [
  {
   "cell_type": "code",
   "execution_count": 1,
   "metadata": {},
   "outputs": [],
   "source": [
    "<2>定位到某个位置\n",
    "如果在读写文件的过程中，需要从另外一个文件进行操作的话，可以使用seek()\n",
    "seek(offset,from)有2个参数\n",
    "    offset:偏移量\n",
    "    from:方向\n",
    "        0：表示文件开头\n",
    "        1：表示当前位置\n",
    "        2：表示文件末尾\n",
    "demo：把位置设置为：从文件开头， 偏移5个字节\n",
    "\n",
    "    #打开一个已存在的文件\n",
    "    f = open(\"test.txt\",\"r\")\n",
    "    f.seek(5,0)\n",
    "    str = f.read()\n",
    "    print(\"读取的数据是：\"，str)\n",
    "    \n",
    "    #查找当前位置\n",
    "    position = f.tell()"
   ]
  },
  {
   "cell_type": "code",
   "execution_count": null,
   "metadata": {},
   "outputs": [],
   "source": []
  }
 ],
 "metadata": {
  "kernelspec": {
   "display_name": "Python 3",
   "language": "python",
   "name": "python3"
  },
  "language_info": {
   "codemirror_mode": {
    "name": "ipython",
    "version": 3
   },
   "file_extension": ".py",
   "mimetype": "text/x-python",
   "name": "python",
   "nbconvert_exporter": "python",
   "pygments_lexer": "ipython3",
   "version": "3.5.2"
  }
 },
 "nbformat": 4,
 "nbformat_minor": 2
}
