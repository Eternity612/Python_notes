{
 "cells": [
  {
   "cell_type": "code",
   "execution_count": null,
   "metadata": {
    "scrolled": true
   },
   "outputs": [],
   "source": [
    "1.文件重命名\n",
    "os模块中的rename()可以完成对文件的重命名操作\n",
    "rename(需要修改的文件名,新的文件名)、\n",
    "    import os\n",
    "    os.rename(\"a.txt\",\"abc.txt\")\n",
    "    \n",
    "2.删除文件\n",
    "os模块中的remove()可以完成对文件的删除操作\n",
    "remove(待删除的文件名)\n",
    "    import os\n",
    "    os.remove(\"a.txt\")\n",
    "\n",
    "3.创建文件夹\n",
    "    import os\n",
    "    os.mkdir()\n",
    "    \n",
    "4.获取当前目录\n",
    "    import os\n",
    "    os.getcwd()\n",
    "    \n",
    "5.改变默认目录\n",
    "    import os\n",
    "    os.chdir(\"../\")\n",
    "\n",
    "6.获取目录列表\n",
    "    import os\n",
    "    os.listdir(\"./\") # 获取当前路径列表\n",
    "    \n",
    "7.删除文件夹\n",
    "    import os \n",
    "    os.redir()\n",
    "    \n"
   ]
  },
  {
   "cell_type": "code",
   "execution_count": null,
   "metadata": {},
   "outputs": [],
   "source": []
  }
 ],
 "metadata": {
  "kernelspec": {
   "display_name": "Python 3",
   "language": "python",
   "name": "python3"
  },
  "language_info": {
   "codemirror_mode": {
    "name": "ipython",
    "version": 3
   },
   "file_extension": ".py",
   "mimetype": "text/x-python",
   "name": "python",
   "nbconvert_exporter": "python",
   "pygments_lexer": "ipython3",
   "version": "3.5.2"
  }
 },
 "nbformat": 4,
 "nbformat_minor": 2
}
