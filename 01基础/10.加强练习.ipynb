{
 "cells": [
  {
   "cell_type": "markdown",
   "metadata": {},
   "source": [
    "### 模块中的\\__all\\__的作用"
   ]
  },
  {
   "cell_type": "markdown",
   "metadata": {},
   "source": [
    "在最前面加上\\__all\\__ = [\"test1\"]，表示当其他模块调用此模块，只能调用模块里的test1函数，其他函数都调用不了"
   ]
  },
  {
   "cell_type": "code",
   "execution_count": null,
   "metadata": {},
   "outputs": [],
   "source": [
    "__all__ = [\"test1\"] # 列表中放 类、全局变量等\n",
    "\n",
    "def test1():\n",
    "    print(\"- - -test-1- - -\")\n",
    "\n",
    "def test2():\n",
    "    print(\"- - -test-2- - -\")"
   ]
  },
  {
   "cell_type": "markdown",
   "metadata": {},
   "source": [
    "### 包、\\__init\\__.py 的作用"
   ]
  },
  {
   "cell_type": "markdown",
   "metadata": {},
   "source": [
    "当调用其他文件夹里的模块时，在文件夹里创建\\__init\\__.py文件，表示该文件夹为一个包（即模块的集合体），在其他地方可导入此处模块"
   ]
  },
  {
   "cell_type": "markdown",
   "metadata": {},
   "source": [
    "\\__init\\__.py"
   ]
  },
  {
   "cell_type": "markdown",
   "metadata": {},
   "source": [
    "只要导入此包时，\\__init\\__.py 文件就会先被执行"
   ]
  },
  {
   "cell_type": "code",
   "execution_count": 2,
   "metadata": {},
   "outputs": [],
   "source": [
    "__all__ = [\"test1\"]  #python3中只能调用该包下的 test1.py模块，其他模块不能被导入\n",
    "\n",
    "from . import test1 # python3 python2都可以用的方式"
   ]
  },
  {
   "cell_type": "markdown",
   "metadata": {},
   "source": [
    "### 模块的安装、发布"
   ]
  },
  {
   "cell_type": "code",
   "execution_count": null,
   "metadata": {},
   "outputs": [],
   "source": [
    "1.在包的当前路径新建setup.py\n",
    "2.打开输入\n",
    "from distutils.core import setup\n",
    "setup(name=\"dongge\",version=\"1.0\",description=\"dongge's module\",author=\"dongge\",py_module=[\"Test.sendmsg\",\"Test.recvmsg\"])  \n",
    "#py_module为路径.包名\n",
    "3.构建模块\n",
    "命令行输入\n",
    "Python3 setup.py build  #python3\n",
    "Python setup.py build  #python2\n",
    "执行完多了个bulid文件夹\n",
    "4.生成发布压缩包\n",
    "命令行输入\n",
    "python3 setup.py sdist\n",
    "执行完多了个dist文件夹和MANIFEST\n",
    "5.把dist文件下的压缩包可以发布到Git上\n",
    "6.解压包会有一个PKG.INFO里面有一些之前填的作者信息\n",
    "7.Python3 setup.py install 安装到系统里面\n",
    "之后任何路径下，都可直接import"
   ]
  },
  {
   "cell_type": "markdown",
   "metadata": {},
   "source": [
    "### 列表生成式"
   ]
  },
  {
   "cell_type": "code",
   "execution_count": 4,
   "metadata": {},
   "outputs": [
    {
     "data": {
      "text/plain": [
       "[1, 2, 3, 4, 5, 6, 7, 8, 9, 10]"
      ]
     },
     "execution_count": 4,
     "metadata": {},
     "output_type": "execute_result"
    }
   ],
   "source": [
    "a = []\n",
    "i = 1\n",
    "while i<= 10:\n",
    "    a.append(i)\n",
    "    i+=1\n",
    "a"
   ]
  },
  {
   "cell_type": "code",
   "execution_count": null,
   "metadata": {},
   "outputs": [],
   "source": [
    "range(10,18,2),range就是用来生成列表的\n",
    "使用range的风险：Python2内存不足会报错，Python3不会"
   ]
  },
  {
   "cell_type": "code",
   "execution_count": 8,
   "metadata": {},
   "outputs": [
    {
     "name": "stdout",
     "output_type": "stream",
     "text": [
      "[10, 11, 12, 13, 14, 15, 16, 17]\n",
      "[11, 11, 11, 11, 11, 11, 11, 11]\n"
     ]
    }
   ],
   "source": [
    "a = [i for i in range(10,18)]\n",
    "print(a)\n",
    "b = [11 for i in range(10,18)]  #for循环只负责循环次数，值由for前面值决定\n",
    "print(b)"
   ]
  },
  {
   "cell_type": "code",
   "execution_count": 9,
   "metadata": {},
   "outputs": [
    {
     "data": {
      "text/plain": [
       "[0, 2, 4, 6, 8]"
      ]
     },
     "execution_count": 9,
     "metadata": {},
     "output_type": "execute_result"
    }
   ],
   "source": [
    "c = [i for i in range(10) if i%2==0]\n",
    "c"
   ]
  },
  {
   "cell_type": "code",
   "execution_count": 11,
   "metadata": {},
   "outputs": [
    {
     "data": {
      "text/plain": [
       "[0, 0, 1, 1, 2, 2]"
      ]
     },
     "execution_count": 11,
     "metadata": {},
     "output_type": "execute_result"
    }
   ],
   "source": [
    "d = [i for i in range(3) for j in range(2)]\n",
    "d"
   ]
  },
  {
   "cell_type": "code",
   "execution_count": 12,
   "metadata": {},
   "outputs": [
    {
     "data": {
      "text/plain": [
       "[(0, 0), (0, 1), (1, 0), (1, 1), (2, 0), (2, 1)]"
      ]
     },
     "execution_count": 12,
     "metadata": {},
     "output_type": "execute_result"
    }
   ],
   "source": [
    "d = [(i,j) for i in range(3) for j in range(2)]\n",
    "d"
   ]
  },
  {
   "cell_type": "markdown",
   "metadata": {},
   "source": [
    "### 去重(集合、元组、列表)"
   ]
  },
  {
   "cell_type": "markdown",
   "metadata": {},
   "source": [
    "集合没有相同的值也可以增删改查操作，用花括号表示，字典也是用花括号"
   ]
  },
  {
   "cell_type": "code",
   "execution_count": 14,
   "metadata": {},
   "outputs": [
    {
     "name": "stdout",
     "output_type": "stream",
     "text": [
      "[11, 22, 33]\n"
     ]
    }
   ],
   "source": [
    "#例子1 列表去重\n",
    "a = [11,22,33,11,22,33]\n",
    "b = []\n",
    "for i in a:\n",
    "    if i not in b:\n",
    "        b.append(i)\n",
    "print(b)"
   ]
  },
  {
   "cell_type": "code",
   "execution_count": 16,
   "metadata": {},
   "outputs": [
    {
     "name": "stdout",
     "output_type": "stream",
     "text": [
      "[33, 11, 22]\n"
     ]
    }
   ],
   "source": [
    "#例子2 列表去重\n",
    "a = [11,22,33,11,22,33]\n",
    "#c = set()\n",
    "b = list(set(a))\n",
    "print(b)"
   ]
  }
 ],
 "metadata": {
  "kernelspec": {
   "display_name": "Python 3",
   "language": "python",
   "name": "python3"
  },
  "language_info": {
   "codemirror_mode": {
    "name": "ipython",
    "version": 3
   },
   "file_extension": ".py",
   "mimetype": "text/x-python",
   "name": "python",
   "nbconvert_exporter": "python",
   "pygments_lexer": "ipython3",
   "version": "3.5.2"
  }
 },
 "nbformat": 4,
 "nbformat_minor": 2
}
